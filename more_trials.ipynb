{
 "cells": [
  {
   "cell_type": "code",
   "execution_count": 1,
   "metadata": {},
   "outputs": [],
   "source": [
    "import numpy as np\n",
    "import scipy as sp\n",
    "import pandas as pd\n",
    "import os\n",
    "import matplotlib.pyplot as plt\n",
    "import zlib\n",
    "import sys\n",
    "import compress\n",
    "import random\n",
    "import lzma"
   ]
  },
  {
   "cell_type": "code",
   "execution_count": 4,
   "metadata": {},
   "outputs": [
    {
     "data": {
      "text/plain": [
       "<compress.compressor.Compressor at 0x17e1f405438>"
      ]
     },
     "execution_count": 4,
     "metadata": {},
     "output_type": "execute_result"
    }
   ],
   "source": [
    "from compress import Compressor\n",
    "c = Compressor()\n",
    "c.use_zlib()"
   ]
  },
  {
   "cell_type": "code",
   "execution_count": 2,
   "metadata": {
    "scrolled": false
   },
   "outputs": [],
   "source": [
    "data_df = pd.read_csv('C1_160313.txt', sep=\",\", engine='python')\n",
    "data_df.columns = ['Time', 'X', 'Y', 'Z']\n",
    "# data_df.astype({'Y': 'float64'})"
   ]
  },
  {
   "cell_type": "code",
   "execution_count": 3,
   "metadata": {
    "scrolled": true
   },
   "outputs": [
    {
     "data": {
      "text/plain": [
       "Time    0\n",
       "X       0\n",
       "Y       0\n",
       "Z       0\n",
       "dtype: int64"
      ]
     },
     "execution_count": 3,
     "metadata": {},
     "output_type": "execute_result"
    }
   ],
   "source": [
    "data_df = data_df.dropna()\n",
    "data_df.isnull().sum()"
   ]
  },
  {
   "cell_type": "code",
   "execution_count": 4,
   "metadata": {},
   "outputs": [
    {
     "data": {
      "text/plain": [
       "Time    object\n",
       "X        int16\n",
       "Y        int16\n",
       "Z        int16\n",
       "dtype: object"
      ]
     },
     "execution_count": 4,
     "metadata": {},
     "output_type": "execute_result"
    }
   ],
   "source": [
    "data_df['X'] = round(data_df['X']/0.0078125)\n",
    "data_df['Y'] = round(data_df['Y']/0.0078125)\n",
    "data_df['Z'] = round(data_df['Z']/0.0078125)\n",
    "data_df = data_df.astype({'X': 'int16',\n",
    "               'Y': 'int16',\n",
    "               'Z': 'int16'})\n",
    "data_df.dtypes"
   ]
  },
  {
   "cell_type": "code",
   "execution_count": 5,
   "metadata": {},
   "outputs": [
    {
     "data": {
      "text/html": [
       "<div>\n",
       "<style scoped>\n",
       "    .dataframe tbody tr th:only-of-type {\n",
       "        vertical-align: middle;\n",
       "    }\n",
       "\n",
       "    .dataframe tbody tr th {\n",
       "        vertical-align: top;\n",
       "    }\n",
       "\n",
       "    .dataframe thead th {\n",
       "        text-align: right;\n",
       "    }\n",
       "</style>\n",
       "<table border=\"1\" class=\"dataframe\">\n",
       "  <thead>\n",
       "    <tr style=\"text-align: right;\">\n",
       "      <th></th>\n",
       "      <th>Time</th>\n",
       "      <th>X</th>\n",
       "      <th>Y</th>\n",
       "      <th>Z</th>\n",
       "    </tr>\n",
       "  </thead>\n",
       "  <tbody>\n",
       "    <tr>\n",
       "      <th>0</th>\n",
       "      <td>1457857818.466883691</td>\n",
       "      <td>-1083</td>\n",
       "      <td>1085</td>\n",
       "      <td>579</td>\n",
       "    </tr>\n",
       "    <tr>\n",
       "      <th>1</th>\n",
       "      <td>1457857818.481750410</td>\n",
       "      <td>-1081</td>\n",
       "      <td>1091</td>\n",
       "      <td>586</td>\n",
       "    </tr>\n",
       "    <tr>\n",
       "      <th>2</th>\n",
       "      <td>1457857818.496617129</td>\n",
       "      <td>-1087</td>\n",
       "      <td>1089</td>\n",
       "      <td>590</td>\n",
       "    </tr>\n",
       "    <tr>\n",
       "      <th>3</th>\n",
       "      <td>1457857818.511483848</td>\n",
       "      <td>-1088</td>\n",
       "      <td>1151</td>\n",
       "      <td>571</td>\n",
       "    </tr>\n",
       "    <tr>\n",
       "      <th>4</th>\n",
       "      <td>1457857818.526350567</td>\n",
       "      <td>-1083</td>\n",
       "      <td>1177</td>\n",
       "      <td>566</td>\n",
       "    </tr>\n",
       "    <tr>\n",
       "      <th>...</th>\n",
       "      <td>...</td>\n",
       "      <td>...</td>\n",
       "      <td>...</td>\n",
       "      <td>...</td>\n",
       "    </tr>\n",
       "    <tr>\n",
       "      <th>724656</th>\n",
       "      <td>1457868591.660651464</td>\n",
       "      <td>-175</td>\n",
       "      <td>941</td>\n",
       "      <td>586</td>\n",
       "    </tr>\n",
       "    <tr>\n",
       "      <th>724657</th>\n",
       "      <td>1457868591.675518183</td>\n",
       "      <td>-179</td>\n",
       "      <td>956</td>\n",
       "      <td>580</td>\n",
       "    </tr>\n",
       "    <tr>\n",
       "      <th>724658</th>\n",
       "      <td>1457868591.690384902</td>\n",
       "      <td>-176</td>\n",
       "      <td>1019</td>\n",
       "      <td>562</td>\n",
       "    </tr>\n",
       "    <tr>\n",
       "      <th>724659</th>\n",
       "      <td>1457868591.705251621</td>\n",
       "      <td>-175</td>\n",
       "      <td>1039</td>\n",
       "      <td>574</td>\n",
       "    </tr>\n",
       "    <tr>\n",
       "      <th>724660</th>\n",
       "      <td>1457868591.720118340</td>\n",
       "      <td>-170</td>\n",
       "      <td>1032</td>\n",
       "      <td>594</td>\n",
       "    </tr>\n",
       "  </tbody>\n",
       "</table>\n",
       "<p>710907 rows × 4 columns</p>\n",
       "</div>"
      ],
      "text/plain": [
       "                        Time     X     Y    Z\n",
       "0       1457857818.466883691 -1083  1085  579\n",
       "1       1457857818.481750410 -1081  1091  586\n",
       "2       1457857818.496617129 -1087  1089  590\n",
       "3       1457857818.511483848 -1088  1151  571\n",
       "4       1457857818.526350567 -1083  1177  566\n",
       "...                      ...   ...   ...  ...\n",
       "724656  1457868591.660651464  -175   941  586\n",
       "724657  1457868591.675518183  -179   956  580\n",
       "724658  1457868591.690384902  -176  1019  562\n",
       "724659  1457868591.705251621  -175  1039  574\n",
       "724660  1457868591.720118340  -170  1032  594\n",
       "\n",
       "[710907 rows x 4 columns]"
      ]
     },
     "execution_count": 5,
     "metadata": {},
     "output_type": "execute_result"
    }
   ],
   "source": [
    "data_df"
   ]
  },
  {
   "cell_type": "code",
   "execution_count": 6,
   "metadata": {},
   "outputs": [
    {
     "data": {
      "text/plain": [
       "Time    0\n",
       "X       0\n",
       "Y       0\n",
       "Z       0\n",
       "dtype: int64"
      ]
     },
     "execution_count": 6,
     "metadata": {},
     "output_type": "execute_result"
    }
   ],
   "source": [
    "data_df.isnull().sum()"
   ]
  },
  {
   "cell_type": "code",
   "execution_count": 7,
   "metadata": {},
   "outputs": [
    {
     "data": {
      "text/plain": [
       "Time    object\n",
       "X        int16\n",
       "Y        int16\n",
       "Z        int16\n",
       "dtype: object"
      ]
     },
     "execution_count": 7,
     "metadata": {},
     "output_type": "execute_result"
    }
   ],
   "source": [
    "data_df.dtypes"
   ]
  },
  {
   "cell_type": "code",
   "execution_count": 8,
   "metadata": {},
   "outputs": [
    {
     "data": {
      "text/plain": [
       "Time    float64\n",
       "X         int16\n",
       "Y         int16\n",
       "Z         int16\n",
       "dtype: object"
      ]
     },
     "execution_count": 8,
     "metadata": {},
     "output_type": "execute_result"
    }
   ],
   "source": [
    "data_df = data_df.astype({'Time': 'float64'})\n",
    "data_df.dtypes"
   ]
  },
  {
   "cell_type": "markdown",
   "metadata": {},
   "source": [
    "# 1 second, vary zlib level, measure final size of data (check time for compression later)\n",
    "# ALSO THIS IS FOR SINGLE LIST COMPRESSION NOT 3D ARRAY"
   ]
  },
  {
   "cell_type": "code",
   "execution_count": 29,
   "metadata": {},
   "outputs": [],
   "source": [
    "start = random.randint(0, 650000)\n",
    "df_chunk = data_df[start: start+64]"
   ]
  },
  {
   "cell_type": "code",
   "execution_count": 69,
   "metadata": {},
   "outputs": [
    {
     "data": {
      "text/plain": [
       "array([-65547, -65469, -65391, -65781, -65938, -65859, -65703, -65391,\n",
       "       -65625, -65938, -65859, -66016, -65938, -65859, -65625, -65859,\n",
       "       -66250, -65703, -65781, -65859, -65625, -65781, -65859, -66016,\n",
       "       -66016, -66562, -66250, -66406, -66172, -66328, -66562, -66172,\n",
       "       -66250, -66406, -66094, -66797, -66641, -66406, -66250, -66328,\n",
       "       -66328, -66484, -66406, -66406, -66172, -66172, -66562, -66641,\n",
       "       -65859, -66172, -66641, -66562, -66328, -66875, -66641, -66875,\n",
       "       -66875, -66953, -66484, -66562, -66562, -66953, -66953, -66875])"
      ]
     },
     "execution_count": 69,
     "metadata": {},
     "output_type": "execute_result"
    }
   ],
   "source": [
    "time = np.array(df_chunk['Time'].tolist())\n",
    "x_values = np.array(df_chunk['X'].tolist())\n",
    "y_values = np.array(df_chunk['Y'].tolist())\n",
    "z_values = np.array(df_chunk['Z'].tolist())\n",
    "x_values"
   ]
  },
  {
   "cell_type": "code",
   "execution_count": 117,
   "metadata": {},
   "outputs": [
    {
     "name": "stdout",
     "output_type": "stream",
     "text": [
      "True\n"
     ]
    }
   ],
   "source": [
    "comp_x = [str(x) for x in x_values]\n",
    "comp_x = ','.join(comp_x)\n",
    "initial = comp_x.split(',')\n",
    "\n",
    "comp_x = zlib.compress(bytes(comp_x.encode('utf-8')), 9)\n",
    "decomp_x = zlib.decompress(comp_x).decode()\n",
    "final = decomp_x.split(',')\n",
    "print(initial == final)"
   ]
  },
  {
   "cell_type": "code",
   "execution_count": 120,
   "metadata": {},
   "outputs": [],
   "source": [
    "def compressed_size(values_array, level):\n",
    "    values = [str(x) for x in values_array]\n",
    "    values_str = ','.join(values)\n",
    "    initial = values_str.split(',')\n",
    "    \n",
    "    comp_values = zlib.compress(bytes(values_str.encode('utf-8')), level)\n",
    "    decomp_values = zlib.decompress(comp_values).decode()\n",
    "    final = decomp_values.split(',')\n",
    "    if not initial == final:\n",
    "        raise Exception('Decompressed does not equal compressed')\n",
    "    return sys.getsizeof(comp_values)"
   ]
  },
  {
   "cell_type": "code",
   "execution_count": 190,
   "metadata": {},
   "outputs": [],
   "source": [
    "# use zlib levels of 1, 5, 9\n",
    "uncomp_values = []\n",
    "comp_values1 = []\n",
    "comp_values5 = []\n",
    "comp_values9 = []\n",
    "\n",
    "comp_values_t1 = []\n",
    "comp_values_t5 = []\n",
    "comp_values_t9 = []\n",
    "\n",
    "comp_values_x1 = []\n",
    "comp_values_x5 = []\n",
    "comp_values_x9 = []\n",
    "\n",
    "comp_values_y1 = []\n",
    "comp_values_y5 = []\n",
    "comp_values_y9 = []\n",
    "\n",
    "comp_values_z1 = []\n",
    "comp_values_z5 = []\n",
    "comp_values_z9 = []\n",
    "\n",
    "for i in range(10000):\n",
    "    start = random.randint(0, 650000)\n",
    "    df_chunk = data_df[start: start+64]\n",
    "    \n",
    "    time = np.array(df_chunk['Time'].tolist())\n",
    "    x_values = np.array(df_chunk['X'].tolist())\n",
    "    y_values = np.array(df_chunk['Y'].tolist())\n",
    "    z_values = np.array(df_chunk['Z'].tolist())\n",
    "    \n",
    "    uncomp_values.append(sys.getsizeof(time) +\n",
    "                        sys.getsizeof(x_values) +\n",
    "                        sys.getsizeof(y_values) +\n",
    "                        sys.getsizeof(z_values))\n",
    "    \n",
    "    comp_values_t1.append(compressed_size(time, 1))\n",
    "    comp_values_t5.append(compressed_size(time, 5))\n",
    "    comp_values_t9.append(compressed_size(time, 9))\n",
    "    \n",
    "    comp_values_x1.append(compressed_size(x_values, 1))\n",
    "    comp_values_x5.append(compressed_size(x_values, 5))\n",
    "    comp_values_x9.append(compressed_size(x_values, 9))\n",
    "    \n",
    "    comp_values_y1.append(compressed_size(y_values, 1))\n",
    "    comp_values_y5.append(compressed_size(y_values, 5))\n",
    "    comp_values_y9.append(compressed_size(y_values, 9))\n",
    "    \n",
    "    comp_values_z1.append(compressed_size(z_values, 1))\n",
    "    comp_values_z5.append(compressed_size(z_values, 5))\n",
    "    comp_values_z9.append(compressed_size(z_values, 9))\n",
    "    \n",
    "    total1 = sys.getsizeof(compressed_size(time, 1))+sys.getsizeof(compressed_size(x_values, 1))+sys.getsizeof(compressed_size(y_values, 1))+sys.getsizeof(compressed_size(z_values, 1))\n",
    "    total5 = sys.getsizeof(compressed_size(time, 5))+sys.getsizeof(compressed_size(x_values, 5))+sys.getsizeof(compressed_size(y_values, 5))+sys.getsizeof(compressed_size(z_values, 5))\n",
    "    total9 = sys.getsizeof(compressed_size(time, 9))+sys.getsizeof(compressed_size(x_values, 9))+sys.getsizeof(compressed_size(y_values, 9))+sys.getsizeof(compressed_size(z_values, 9))\n",
    "    \n",
    "    comp_values1.append(total1)\n",
    "    \n",
    "    comp_values5.append(total5)\n",
    "    \n",
    "    comp_values9.append(total9)\n",
    "    "
   ]
  },
  {
   "cell_type": "code",
   "execution_count": 197,
   "metadata": {},
   "outputs": [
    {
     "name": "stdout",
     "output_type": "stream",
     "text": [
      "1664 1664\n",
      "112 112\n",
      "112 112\n",
      "112 112\n"
     ]
    }
   ],
   "source": [
    "print(min(uncomp_values), max(uncomp_values))\n",
    "print(min(comp_values1), max(comp_values1))\n",
    "print(min(comp_values9), max(comp_values9))\n",
    "print(min(comp_values9), max(comp_values9))"
   ]
  },
  {
   "cell_type": "code",
   "execution_count": null,
   "metadata": {},
   "outputs": [],
   "source": []
  },
  {
   "cell_type": "code",
   "execution_count": 192,
   "metadata": {},
   "outputs": [
    {
     "data": {
      "image/png": "[encoded data removed]",
      "text/plain": [
       "<Figure size 432x288 with 1 Axes>"
      ]
     },
     "metadata": {
      "needs_background": "light"
     },
     "output_type": "display_data"
    }
   ],
   "source": [
    "plt.plot(uncomp_values, comp_values1, 'ro', label='Level 1')\n",
    "plt.plot(uncomp_values, comp_values5, 'bv', label='Level 5')\n",
    "plt.plot(uncomp_values, comp_values9, 'gx', label='Level 9')\n",
    "plt.axis([1660, 1668, 110, 114])\n",
    "plt.legend()\n",
    "plt.show()"
   ]
  },
  {
   "cell_type": "code",
   "execution_count": 193,
   "metadata": {},
   "outputs": [
    {
     "data": {
      "image/png": "[encoded data removed]",
      "text/plain": [
       "<Figure size 432x288 with 1 Axes>"
      ]
     },
     "metadata": {
      "needs_background": "light"
     },
     "output_type": "display_data"
    }
   ],
   "source": [
    "plt.plot(uncomp_values, comp_values_x1, 'ro', label='x1')\n",
    "plt.plot(uncomp_values, comp_values_x5, 'rx', label='x5')\n",
    "plt.plot(uncomp_values, comp_values_x9, 'rv', label='x9')\n",
    "plt.plot(uncomp_values, comp_values_y1, 'bo', label='y1')\n",
    "plt.plot(uncomp_values, comp_values_y5, 'bx', label='y5')\n",
    "plt.plot(uncomp_values, comp_values_y9, 'bv', label='y9')\n",
    "plt.plot(uncomp_values, comp_values_z1, 'go', label='z1')\n",
    "plt.plot(uncomp_values, comp_values_z5, 'gx', label='z5')\n",
    "plt.plot(uncomp_values, comp_values_z9, 'gv', label='z9')\n",
    "plt.axis([1662, 1666, 140, 260])\n",
    "plt.legend()\n",
    "plt.show()"
   ]
  },
  {
   "cell_type": "markdown",
   "metadata": {},
   "source": [
    "# LZMA"
   ]
  },
  {
   "cell_type": "code",
   "execution_count": 199,
   "metadata": {
    "scrolled": true
   },
   "outputs": [
    {
     "name": "stdout",
     "output_type": "stream",
     "text": [
      "True\n",
      "576\n",
      "277\n"
     ]
    }
   ],
   "source": [
    "comp_x = [str(x) for x in x_values]\n",
    "comp_x = ','.join(comp_x)\n",
    "initial = comp_x.split(',')\n",
    "\n",
    "comp_x = lzma.compress(bytes(comp_x.encode('utf-8')))\n",
    "decomp_x = lzma.decompress(comp_x).decode()\n",
    "final = decomp_x.split(',')\n",
    "print(initial == final)\n",
    "print(sys.getsizeof(initial))\n",
    "print(sys.getsizeof(comp_x))"
   ]
  },
  {
   "cell_type": "code",
   "execution_count": 171,
   "metadata": {
    "scrolled": true
   },
   "outputs": [
    {
     "ename": "AttributeError",
     "evalue": "module 'snappy' has no attribute 'compress'",
     "output_type": "error",
     "traceback": [
      "\u001b[1;31m---------------------------------------------------------------------------\u001b[0m",
      "\u001b[1;31mAttributeError\u001b[0m                            Traceback (most recent call last)",
      "\u001b[1;32m<ipython-input-171-1a272a945b25>\u001b[0m in \u001b[0;36m<module>\u001b[1;34m\u001b[0m\n\u001b[0;32m      3\u001b[0m \u001b[0minitial\u001b[0m \u001b[1;33m=\u001b[0m \u001b[0mcomp_x\u001b[0m\u001b[1;33m.\u001b[0m\u001b[0msplit\u001b[0m\u001b[1;33m(\u001b[0m\u001b[1;34m','\u001b[0m\u001b[1;33m)\u001b[0m\u001b[1;33m\u001b[0m\u001b[1;33m\u001b[0m\u001b[0m\n\u001b[0;32m      4\u001b[0m \u001b[1;33m\u001b[0m\u001b[0m\n\u001b[1;32m----> 5\u001b[1;33m \u001b[0mcomp_x\u001b[0m \u001b[1;33m=\u001b[0m \u001b[0msnappy\u001b[0m\u001b[1;33m.\u001b[0m\u001b[0mcompress\u001b[0m\u001b[1;33m(\u001b[0m\u001b[0mbytes\u001b[0m\u001b[1;33m(\u001b[0m\u001b[0mcomp_x\u001b[0m\u001b[1;33m.\u001b[0m\u001b[0mencode\u001b[0m\u001b[1;33m(\u001b[0m\u001b[1;34m'utf-8'\u001b[0m\u001b[1;33m)\u001b[0m\u001b[1;33m)\u001b[0m\u001b[1;33m)\u001b[0m\u001b[1;33m\u001b[0m\u001b[1;33m\u001b[0m\u001b[0m\n\u001b[0m\u001b[0;32m      6\u001b[0m \u001b[0mdecomp_x\u001b[0m \u001b[1;33m=\u001b[0m \u001b[0msnappy\u001b[0m\u001b[1;33m.\u001b[0m\u001b[0mdecompress\u001b[0m\u001b[1;33m(\u001b[0m\u001b[0mcomp_x\u001b[0m\u001b[1;33m)\u001b[0m\u001b[1;33m.\u001b[0m\u001b[0mdecode\u001b[0m\u001b[1;33m(\u001b[0m\u001b[1;33m)\u001b[0m\u001b[1;33m\u001b[0m\u001b[1;33m\u001b[0m\u001b[0m\n\u001b[0;32m      7\u001b[0m \u001b[0mfinal\u001b[0m \u001b[1;33m=\u001b[0m \u001b[0mdecomp_x\u001b[0m\u001b[1;33m.\u001b[0m\u001b[0msplit\u001b[0m\u001b[1;33m(\u001b[0m\u001b[1;34m','\u001b[0m\u001b[1;33m)\u001b[0m\u001b[1;33m\u001b[0m\u001b[1;33m\u001b[0m\u001b[0m\n",
      "\u001b[1;31mAttributeError\u001b[0m: module 'snappy' has no attribute 'compress'"
     ]
    }
   ],
   "source": [
    "comp_x = [str(x) for x in x_values]\n",
    "comp_x = ','.join(comp_x)\n",
    "initial = comp_x.split(',')\n",
    "\n",
    "comp_x = snappy.compress(bytes(comp_x.encode('utf-8')))\n",
    "decomp_x = snappy.decompress(comp_x).decode()\n",
    "final = decomp_x.split(',')\n",
    "print(initial == final)\n",
    "# print(initial)\n",
    "# print(final)"
   ]
  },
  {
   "cell_type": "code",
   "execution_count": null,
   "metadata": {},
   "outputs": [],
   "source": []
  },
  {
   "cell_type": "code",
   "execution_count": null,
   "metadata": {},
   "outputs": [],
   "source": []
  },
  {
   "cell_type": "markdown",
   "metadata": {},
   "source": [
    "# RANDOM"
   ]
  },
  {
   "cell_type": "code",
   "execution_count": 7,
   "metadata": {},
   "outputs": [
    {
     "name": "stdout",
     "output_type": "stream",
     "text": [
      "00000000110001\n",
      "-0000000000011\n"
     ]
    }
   ],
   "source": [
    "st = '1'\n",
    "print(''.join('{0:014b}'.format(ord(x), 'b') for x in st))\n",
    "print('{0:014b}'.format(-3))"
   ]
  },
  {
   "cell_type": "code",
   "execution_count": 8,
   "metadata": {},
   "outputs": [
    {
     "data": {
      "text/html": [
       "<div>\n",
       "<style scoped>\n",
       "    .dataframe tbody tr th:only-of-type {\n",
       "        vertical-align: middle;\n",
       "    }\n",
       "\n",
       "    .dataframe tbody tr th {\n",
       "        vertical-align: top;\n",
       "    }\n",
       "\n",
       "    .dataframe thead th {\n",
       "        text-align: right;\n",
       "    }\n",
       "</style>\n",
       "<table border=\"1\" class=\"dataframe\">\n",
       "  <thead>\n",
       "    <tr style=\"text-align: right;\">\n",
       "      <th></th>\n",
       "      <th>X</th>\n",
       "      <th>Y</th>\n",
       "      <th>Z</th>\n",
       "    </tr>\n",
       "  </thead>\n",
       "  <tbody>\n",
       "    <tr>\n",
       "      <td>count</td>\n",
       "      <td>710907.000000</td>\n",
       "      <td>710907.000000</td>\n",
       "      <td>710907.000000</td>\n",
       "    </tr>\n",
       "    <tr>\n",
       "      <td>mean</td>\n",
       "      <td>-798.749368</td>\n",
       "      <td>1045.176643</td>\n",
       "      <td>-100.195964</td>\n",
       "    </tr>\n",
       "    <tr>\n",
       "      <td>std</td>\n",
       "      <td>183.360972</td>\n",
       "      <td>478.466824</td>\n",
       "      <td>485.161339</td>\n",
       "    </tr>\n",
       "    <tr>\n",
       "      <td>min</td>\n",
       "      <td>-1279.000000</td>\n",
       "      <td>-485.000000</td>\n",
       "      <td>-1433.000000</td>\n",
       "    </tr>\n",
       "    <tr>\n",
       "      <td>25%</td>\n",
       "      <td>-883.000000</td>\n",
       "      <td>598.000000</td>\n",
       "      <td>-554.000000</td>\n",
       "    </tr>\n",
       "    <tr>\n",
       "      <td>50%</td>\n",
       "      <td>-822.000000</td>\n",
       "      <td>1046.000000</td>\n",
       "      <td>-99.000000</td>\n",
       "    </tr>\n",
       "    <tr>\n",
       "      <td>75%</td>\n",
       "      <td>-713.000000</td>\n",
       "      <td>1493.500000</td>\n",
       "      <td>354.000000</td>\n",
       "    </tr>\n",
       "    <tr>\n",
       "      <td>max</td>\n",
       "      <td>47.000000</td>\n",
       "      <td>2325.000000</td>\n",
       "      <td>1144.000000</td>\n",
       "    </tr>\n",
       "  </tbody>\n",
       "</table>\n",
       "</div>"
      ],
      "text/plain": [
       "                   X              Y              Z\n",
       "count  710907.000000  710907.000000  710907.000000\n",
       "mean     -798.749368    1045.176643    -100.195964\n",
       "std       183.360972     478.466824     485.161339\n",
       "min     -1279.000000    -485.000000   -1433.000000\n",
       "25%      -883.000000     598.000000    -554.000000\n",
       "50%      -822.000000    1046.000000     -99.000000\n",
       "75%      -713.000000    1493.500000     354.000000\n",
       "max        47.000000    2325.000000    1144.000000"
      ]
     },
     "execution_count": 8,
     "metadata": {},
     "output_type": "execute_result"
    }
   ],
   "source": [
    "data_df.describe()"
   ]
  },
  {
   "cell_type": "code",
   "execution_count": 11,
   "metadata": {},
   "outputs": [
    {
     "data": {
      "text/plain": [
       "list"
      ]
     },
     "execution_count": 11,
     "metadata": {},
     "output_type": "execute_result"
    }
   ],
   "source": [
    "t_values = data_df['Time'].tolist()\n",
    "x_values = data_df['X'].tolist()\n",
    "y_values = data_df['Y'].tolist()\n",
    "z_values = data_df['Z'].tolist()\n",
    "type(x_values)"
   ]
  },
  {
   "cell_type": "code",
   "execution_count": 10,
   "metadata": {},
   "outputs": [],
   "source": [
    "def difference_coding(number_of_values, values, start_num):\n",
    "    num_of_readings = number_of_values\n",
    "    full_values = values[start_num: start_num + num_of_readings]\n",
    "    "
   ]
  },
  {
   "cell_type": "code",
   "execution_count": 11,
   "metadata": {},
   "outputs": [
    {
     "name": "stdout",
     "output_type": "stream",
     "text": [
      "frequencies: {'a': 3, 'b': 1, 'c': 2, 'd': 1, 'e': 5, 'f': 2, 'g': 1}\n",
      "--------------------\n",
      "sorted freq: [(1, 'b'), (1, 'd'), (1, 'g'), (2, 'c'), (2, 'f'), (3, 'a'), (5, 'e')]\n",
      "--------------------\n",
      "tree: (15, ((6, ((3, 'a'), (3, ((1, 'g'), (2, 'c'))))), (9, ((4, ((2, 'f'), (2, ((1, 'b'), (1, 'd'))))), (5, 'e')))))\n",
      "--------------------\n",
      "trimmed tree: (('a', ('g', 'c')), (('f', ('b', 'd')), 'e'))\n",
      "--------------------\n",
      "assignment of codes: {'a': '00', 'g': '010', 'c': '011', 'f': '100', 'b': '1010', 'd': '1011', 'e': '11'}\n",
      "--------------------\n",
      "encoded: 000000101001101110111111111111100100010\n",
      "--------------------\n",
      "decoded: aaabccdeeeeeffg\n",
      "--------------------\n",
      "Original matches decoded: True\n"
     ]
    }
   ],
   "source": [
    "codes={}\n",
    "\n",
    "def frequency (str) :\n",
    "    freqs = {}\n",
    "    for ch in str :\n",
    "        freqs[ch] = freqs.get(ch,0) + 1\n",
    "    return freqs\n",
    "\n",
    "def sortFreq (freqs) :\n",
    "    letters = freqs.keys()\n",
    "    tuples = []\n",
    "    for let in letters :\n",
    "        tuples.append((freqs[let],let))\n",
    "    tuples.sort()\n",
    "    return tuples\n",
    "\n",
    "def buildTree(tuples) :\n",
    "    while len(tuples) > 1 :\n",
    "        leastTwo = tuple(tuples[0:2])                  # get the 2 to combine\n",
    "        theRest  = tuples[2:]                          # all the others\n",
    "        combFreq = leastTwo[0][0] + leastTwo[1][0]     # the branch points freq\n",
    "        tuples   = theRest + [(combFreq,leastTwo)]     # add branch point to the end\n",
    "#         print(tuples)\n",
    "        tuples.sort(key=lambda t: t[0])                                  # sort it into place\n",
    "    return tuples[0]            # Return the single tree inside the list\n",
    "\n",
    "def trimTree (tree) :\n",
    "     # Trim the freq counters off, leaving just the letters\n",
    "    p = tree[1]                                    # ignore freq count in [0]\n",
    "    if type(p) == type(\"\") : return p              # if just a leaf, return it\n",
    "    else : return (trimTree(p[0]), trimTree(p[1])) # trim left then right and recombine\n",
    "    \n",
    "def assignCodes (node, pat='') :\n",
    "    global codes\n",
    "    if type(node) == type(\"\") :\n",
    "        codes[node] = pat                # A leaf. set its code\n",
    "    else  :                              #\n",
    "        assignCodes(node[0], pat+\"0\")    # Branch point. Do the left branch\n",
    "        assignCodes(node[1], pat+\"1\")    # then do the right branch.\n",
    "\n",
    "def encode_str (str) :\n",
    "    global codes\n",
    "    output = \"\"\n",
    "    for ch in str : output += codes[ch]\n",
    "    return output\n",
    "\n",
    "def decode_str (tree, string_to_decode) :\n",
    "    output = \"\"\n",
    "    p = tree\n",
    "    for bit in string_to_decode:\n",
    "#         print(bit, type(bit), p)\n",
    "        if bit == '0' : p = p[0]     # Head up the left branch\n",
    "        else          : p = p[1]     # or up the right branch\n",
    "        if type(p) == type(\"\") :\n",
    "            output += p              # found a character. Add to output\n",
    "            p = tree                 # and restart for next character\n",
    "    return output\n",
    "\n",
    "original_str = 'aaabccdeeeeeffg'\n",
    "qwe = frequency('aaabccdeeeeeffg')\n",
    "print('frequencies:', qwe)\n",
    "print('-'*20)\n",
    "tuples_for_tree = sortFreq(qwe)\n",
    "print('sorted freq:', tuples_for_tree)\n",
    "print('-'*20)\n",
    "tree = buildTree(tuples_for_tree)\n",
    "print('tree:', tree)\n",
    "print('-'*20)\n",
    "trimmed = trimTree(tree)\n",
    "print('trimmed tree:', trimmed)\n",
    "print('-'*20)\n",
    "assignCodes(trimmed)\n",
    "print('assignment of codes:', codes)\n",
    "print('-'*20)\n",
    "print('encoded:', encode_str('aaabccdeeeeeffg'))\n",
    "print('-'*20)\n",
    "decoded = decode_str(trimmed, '000000101001101110111111111111100100010')\n",
    "print('decoded:', decoded)\n",
    "print('-'*20)\n",
    "print('Original matches decoded:', decoded == original_str)"
   ]
  },
  {
   "cell_type": "code",
   "execution_count": 13,
   "metadata": {
    "scrolled": false
   },
   "outputs": [
    {
     "name": "stdout",
     "output_type": "stream",
     "text": [
      "Calculated Differences size: 279\n",
      "Actual calculated differences string: -656:0,1,-7,-3,0,-5,0,-3,1,-6,-8,-9,-12,-8,-9,-8,-8,0,-5,-8,-13,-14,-8,-16,-15,-9,-10,-15,-12,-13,-16,-9,-9,-8,-13,-16,-21,-19,-21,-21,-16,-18,-16,-17,-23,-24,-28,-29,-29,-33,-33,-32,-25,-28,-28,-32,-32,-33,-32,-29,-32,-37,-32,-30,-26,-24,-25,-26,-28,-25\n",
      "----------------------------------------\n",
      "Uncompressed size: 374\n",
      "Full uncompressed string: -656,-655,-663,-659,-656,-661,-656,-659,-655,-662,-664,-665,-668,-664,-665,-664,-664,-656,-661,-664,-669,-670,-664,-672,-671,-665,-666,-671,-668,-669,-672,-665,-665,-664,-669,-672,-677,-675,-677,-677,-672,-674,-672,-673,-679,-680,-684,-685,-685,-689,-689,-688,-681,-684,-684,-688,-688,-689,-688,-685,-688,-693,-688,-686,-682,-680,-681,-682,-684,-681\n",
      "----------------------------------------\n",
      "zlib compressed size: 129\n",
      "----------------------------------------\n",
      "encoded: 0100001101000001100110110001011111001110010100111101011000100111010101100010011110101111100100001001000110011101110011111001100100011001110111001000110010001101100010011101010010001100111111110100111111100111100100011001111100001001111111010100111011100111111100010011111110101001111100110011111111010011111000010011101110011101110010001100111111110100111110000100100111111001111111011100100111111001001111110011111000010011111000110011111000010011111110010100100111101001001110011110010010001100100111011100100111011100111101110100111101110100111100011001001110101001001000110010010001100111100011001111000110011110111010011110001100100111011100111100011001111011001010011110001100111101100010010010000100100111001111001001110101001001000010010010001100100111010\n",
      "length of huffman encoded in bits?: 763\n",
      "length in bytes: 95.375\n",
      "huffman encoded size: 780\n",
      "Original matches decoded: True\n"
     ]
    }
   ],
   "source": [
    "start = random.randint(0, 650000)\n",
    "num_of_readings = 70\n",
    "initial = x_values[start]\n",
    "full_values = x_values[start: start+num_of_readings]\n",
    "full_joined = ','.join(map(str, full_values))\n",
    "new = []\n",
    "for i in range(start, start+num_of_readings):\n",
    "    new.append(x_values[i]-initial)\n",
    "\n",
    "lst_joined = ','.join(map(str, new))\n",
    "final_str = str(initial)+':'+lst_joined\n",
    "print('Calculated Differences size:', sys.getsizeof(final_str))\n",
    "print('Actual calculated differences string:', final_str)\n",
    "print('--'*20)\n",
    "print('Uncompressed size:', sys.getsizeof(full_joined))\n",
    "print('Full uncompressed string:', full_joined)\n",
    "print('--'*20)\n",
    "# print(sys.getsizeof(final_str.encode('utf-8')), final_str.encode('utf-8'))\n",
    "# print('--'*20)\n",
    "print('zlib compressed size:', sys.getsizeof(zlib.compress(final_str.encode('utf-8'))))\n",
    "print('--'*20)\n",
    "codes={}\n",
    "qwe = frequency(final_str)\n",
    "tuples_for_tree = sortFreq(qwe)\n",
    "tree = buildTree(tuples_for_tree)\n",
    "trimmed = trimTree(tree)\n",
    "assignCodes(trimmed)\n",
    "encoded = encode_str(final_str)\n",
    "decoded = decode_str(trimmed, encoded)\n",
    "# print(codes)\n",
    "print('encoded:', encoded)\n",
    "print('length of huffman encoded in bits?:', len(encoded))\n",
    "print('length in bytes:', len(encoded)/8)\n",
    "print('huffman encoded size:', sys.getsizeof(encoded.encode('utf-8')))\n",
    "print('Original matches decoded:', decoded == final_str)\n",
    "# print('decoded:', decoded)\n",
    "# print('bytes form:', bytes(encoded.encode('utf-8')))"
   ]
  },
  {
   "cell_type": "code",
   "execution_count": 10,
   "metadata": {
    "scrolled": false
   },
   "outputs": [
    {
     "name": "stdout",
     "output_type": "stream",
     "text": [
      "Graphs for 400 Readings\n"
     ]
    },
    {
     "data": {
      "image/png": "[encoded data removed]",
      "text/plain": [
       "<Figure size 432x288 with 1 Axes>"
      ]
     },
     "metadata": {
      "needs_background": "light"
     },
     "output_type": "display_data"
    },
    {
     "data": {
      "image/png": "[encoded data removed]",
      "text/plain": [
       "<Figure size 432x288 with 1 Axes>"
      ]
     },
     "metadata": {
      "needs_background": "light"
     },
     "output_type": "display_data"
    },
    {
     "data": {
      "image/png": "[encoded data removed]",
      "text/plain": [
       "<Figure size 432x288 with 1 Axes>"
      ]
     },
     "metadata": {
      "needs_background": "light"
     },
     "output_type": "display_data"
    }
   ],
   "source": [
    "rand_start = random.randint(0, 650000)\n",
    "df_part = data_df[rand_start: rand_start+400]\n",
    "print('Graphs for 400 Readings')\n",
    "plt.plot(df_part['Time'], df_part['X'])\n",
    "plt.xticks([])\n",
    "plt.title('X Axis Readings')\n",
    "plt.show()\n",
    "\n",
    "plt.plot(df_part['Time'], df_part['Y'])\n",
    "plt.xticks([])\n",
    "plt.title('Y Axis Readings')\n",
    "plt.show()\n",
    "\n",
    "plt.plot(df_part['Time'], df_part['Z'])\n",
    "plt.xticks([])\n",
    "plt.title('Z Axis Readings')\n",
    "plt.show()"
   ]
  },
  {
   "cell_type": "code",
   "execution_count": 14,
   "metadata": {},
   "outputs": [
    {
     "data": {
      "text/plain": [
       "12746164589062952870982769233386913477817926023523623223540386838358220628672661651969741259020611321649623928942294939996160139210049120563437629932887981377355233519296111456746886251098529723172294506438121906081501523296721210"
      ]
     },
     "execution_count": 14,
     "metadata": {},
     "output_type": "execute_result"
    }
   ],
   "source": [
    "int('0100001101000001100110110001011111001110010100111101011000100111010101100010011110101111100100001001000110011101110011111001100100011001110111001000110010001101100010011101010010001100111111110100111111100111100100011001111100001001111111010100111011100111111100010011111110101001111100110011111111010011111000010011101110011101110010001100111111110100111110000100100111111001111111011100100111111001001111110011111000010011111000110011111000010011111110010100100111101001001110011110010010001100100111011100100111011100111101110100111101110100111100011001001110101001001000110010010001100111100011001111000110011110111010011110001100100111011100111100011001111011001010011110001100111101100010010010000100100111001111001001110101001001000010010010001100100111010', 2)"
   ]
  },
  {
   "cell_type": "code",
   "execution_count": 23,
   "metadata": {},
   "outputs": [
    {
     "name": "stdout",
     "output_type": "stream",
     "text": [
      "Encoded value is [('a', 5), ('h', 6), ('m', 7), ('u', 1), ('i', 7), ('a', 6)]\n",
      "True\n"
     ]
    }
   ],
   "source": [
    "# this is from rosetta codes implementation of run length encoding\n",
    "# http://rosettacode.org/wiki/Run-length_encoding#Python\n",
    "def rle_encode(input_string):\n",
    "    count = 1\n",
    "    prev = ''\n",
    "    lst = []\n",
    "    for character in input_string:\n",
    "        if character != prev:\n",
    "            if prev:\n",
    "                entry = (prev,count)\n",
    "                lst.append(entry)\n",
    "                #print lst\n",
    "            count = 1\n",
    "            prev = character\n",
    "        else:\n",
    "            count += 1\n",
    "    else:\n",
    "        try:\n",
    "            entry = (character,count)\n",
    "            lst.append(entry)\n",
    "            return (lst, 0)\n",
    "        except Exception as e:\n",
    "            print(\"Exception encountered {e}\".format(e=e)) \n",
    "            return (e, 1)\n",
    "        \n",
    "def rle_decode(lst):\n",
    "    q = \"\"\n",
    "    for character, count in lst:\n",
    "        q += character * count\n",
    "    return q\n",
    " \n",
    "#Method call\n",
    "value = rle_encode(\"aaaaahhhhhhmmmmmmmuiiiiiiiaaaaaa\")\n",
    "if value[1] == 0:\n",
    "    print(\"Encoded value is {}\".format(value[0]))\n",
    "    rle_decode(value[0])\n",
    "rle_decode(value[0])\n",
    "\n",
    "huffman_encoded = '0100001101000001100110110001011111001110010100111101011000100111010101100010011110101111100100001001000110011101110011111001100100011001110111001000110010001101100010011101010010001100111111110100111111100111100100011001111100001001111111010100111011100111111100010011111110101001111100110011111111010011111000010011101110011101110010001100111111110100111110000100100111111001111111011100100111111001001111110011111000010011111000110011111000010011111110010100100111101001001110011110010010001100100111011100100111011100111101110100111101110100111100011001001110101001001000110010010001100111100011001111000110011110111010011110001100100111011100111100011001111011001010011110001100111101100010010010000100100111001111001001110101001001000010010010001100100111010'\n",
    "value = rle_encode(huffman_encoded)\n",
    "# print(value)\n",
    "print(rle_decode(value[0]) == huffman_encoded)"
   ]
  },
  {
   "cell_type": "code",
   "execution_count": 50,
   "metadata": {},
   "outputs": [
    {
     "name": "stdout",
     "output_type": "stream",
     "text": [
      "715 101140211011502120211021301110512031201110112041101110213011203110111011102130112041101110512011401120113021203110312051202120113021203110312011302120113021102130112031101110112011302120811011207120412011302120514011207110111011203110312071301120711011101120512021208110112051401120311031203110312011302120811011205140112011206120711031201120612011206120514011205130212051401120712011101120112041101120112031204120112011302120112031103120112031103120411031101120411031101120413021201120311011101120112011302120112011302120413021204130212041103110112041302120112031103120413021204110212011101120413021204110213011201120114011201120312041201120311011101120112011401120112011302120112031101110\n",
      "1133\n"
     ]
    }
   ],
   "source": [
    "# this is from https://stackabuse.com/run-length-encoding/\n",
    "# RUN LENGTH ENCODING\n",
    "\n",
    "def rle_encode(data):\n",
    "    encoding = ''\n",
    "    prev_char = ''\n",
    "    count = 1\n",
    "\n",
    "    if not data: return ''\n",
    "\n",
    "    for char in data:\n",
    "        # If the prev and current characters\n",
    "        # don't match...\n",
    "        if char != prev_char:\n",
    "            # ...then add the count and character\n",
    "            # to our encoding\n",
    "            if prev_char:\n",
    "                encoding += str(count) + prev_char\n",
    "            count = 1\n",
    "            prev_char = char\n",
    "        else:\n",
    "            # Or increment our counter\n",
    "            # if the characters do match\n",
    "            count += 1\n",
    "    else:\n",
    "        # Finish off the encoding\n",
    "        encoding += str(count) + prev_char\n",
    "        return encoding\n",
    "    \n",
    "encoded_val = rle_encode(huffman_encoded)\n",
    "\n",
    "def rle_decode(data):\n",
    "    decode = ''\n",
    "    count = 1\n",
    "    for char in data:\n",
    "#         print('char', char)\n",
    "        # If the character is numerical...\n",
    "        if int(char) > 1:\n",
    "            # ...append it to our count\n",
    "            count += int(char)\n",
    "        else:\n",
    "            # Otherwise we've seen a non-numerical\n",
    "            # character and need to expand it for\n",
    "            # the decoding\n",
    "#             print('count', count)\n",
    "            decode += char * int(count)\n",
    "            count = 1\n",
    "    return decode\n",
    "\n",
    "decoded_val = rle_decode(encoded_val)\n",
    "\n",
    "print(sys.getsizeof(encoded_val), encoded_val)\n",
    "print(sys.getsizeof(decoded_val))\n",
    "# print(decoded_val)\n",
    "# print('here')"
   ]
  },
  {
   "cell_type": "code",
   "execution_count": 46,
   "metadata": {},
   "outputs": [
    {
     "name": "stdout",
     "output_type": "stream",
     "text": [
      "Max x value: 15\n",
      "Max y value: 87\n",
      "Max z value: 237\n",
      "Bits required for x: 4\n",
      "Bits required for y: 7\n",
      "Bits required for z: 8\n"
     ]
    }
   ],
   "source": [
    "start = random.randint(0, 650000)\n",
    "num_of_readings = 20\n",
    "initial = x_values[start]\n",
    "full_values = x_values[start: start+num_of_readings]\n",
    "full_joined = ','.join(map(str, full_values))\n",
    "new = []\n",
    "for i in range(start, start+num_of_readings):\n",
    "    new.append(x_values[i]-initial)\n",
    "\n",
    "lst_joined = ','.join(map(str, new))\n",
    "final_str = str(initial)+':'+lst_joined\n",
    "# print(new)\n",
    "absx_values = [abs(x) for x in new]\n",
    "print('Max x value:', max(absx_values))\n",
    "\n",
    "\n",
    "\n",
    "initial = y_values[start]\n",
    "full_values = y_values[start: start+num_of_readings]\n",
    "full_joined = ','.join(map(str, full_values))\n",
    "new = []\n",
    "for i in range(start, start+num_of_readings):\n",
    "    new.append(y_values[i]-initial)\n",
    "\n",
    "lst_joined = ','.join(map(str, new))\n",
    "final_str = str(initial)+':'+lst_joined\n",
    "# print(new)\n",
    "absy_values = [abs(x) for x in new]\n",
    "print('Max y value:', max(absy_values))\n",
    "\n",
    "\n",
    "\n",
    "initial = z_values[start]\n",
    "full_values = z_values[start: start+num_of_readings]\n",
    "full_joined = ','.join(map(str, full_values))\n",
    "new = []\n",
    "for i in range(start, start+num_of_readings):\n",
    "    new.append(z_values[i]-initial)\n",
    "\n",
    "lst_joined = ','.join(map(str, new))\n",
    "final_str = str(initial)+':'+lst_joined\n",
    "# print(new)\n",
    "absz_values = [abs(x) for x in new]\n",
    "print('Max z value:', max(absz_values))\n",
    "\n",
    "def bits_required(list_of_abs):\n",
    "    if max(list_of_abs) < 2:\n",
    "        return 1\n",
    "    if max(list_of_abs) < 4:\n",
    "        return 2\n",
    "    if max(list_of_abs) < 8:\n",
    "        return 3\n",
    "    if max(list_of_abs) < 16:\n",
    "        return 4\n",
    "    if max(list_of_abs) < 32:\n",
    "        return 5\n",
    "    if max(list_of_abs) < 64:\n",
    "        return 6\n",
    "    if max(list_of_abs) < 128:\n",
    "        return 7\n",
    "    if max(list_of_abs) < 256:\n",
    "        return 8\n",
    "    if max(list_of_abs) < 512:\n",
    "        return 9\n",
    "    if max(list_of_abs) < 1024:\n",
    "        return 10\n",
    "    if max(list_of_abs) < 2048:\n",
    "        return 11\n",
    "    \n",
    "print('Bits required for x:', bits_required(absx_values))\n",
    "print('Bits required for y:', bits_required(absy_values))\n",
    "print('Bits required for z:', bits_required(absz_values))"
   ]
  },
  {
   "cell_type": "code",
   "execution_count": 104,
   "metadata": {},
   "outputs": [],
   "source": [
    "x_bits = []\n",
    "y_bits = []\n",
    "z_bits = []\n",
    "\n",
    "for i in range(10000):\n",
    "    start = random.randint(0, 650000)\n",
    "    num_of_readings = 70\n",
    "    initial = x_values[start]\n",
    "    full_values = x_values[start: start+num_of_readings]\n",
    "    full_joined = ','.join(map(str, full_values))\n",
    "    new = []\n",
    "    for i in range(start, start+num_of_readings):\n",
    "        new.append(x_values[i]-initial)\n",
    "\n",
    "    lst_joined = ','.join(map(str, new))\n",
    "    final_str = str(initial)+':'+lst_joined\n",
    "    # print(new)\n",
    "    absx_values = [abs(x) for x in new]\n",
    "    # print('Max x value:', max(absx_values))\n",
    "\n",
    "\n",
    "\n",
    "    initial = y_values[start]\n",
    "    full_values = y_values[start: start+num_of_readings]\n",
    "    full_joined = ','.join(map(str, full_values))\n",
    "    new = []\n",
    "    for i in range(start, start+num_of_readings):\n",
    "        new.append(y_values[i]-initial)\n",
    "\n",
    "    lst_joined = ','.join(map(str, new))\n",
    "    final_str = str(initial)+':'+lst_joined\n",
    "    # print(new)\n",
    "    absy_values = [abs(x) for x in new]\n",
    "    # print('Max y value:', max(absy_values))\n",
    "\n",
    "\n",
    "\n",
    "    initial = z_values[start]\n",
    "    full_values = z_values[start: start+num_of_readings]\n",
    "    full_joined = ','.join(map(str, full_values))\n",
    "    new = []\n",
    "    for i in range(start, start+num_of_readings):\n",
    "        new.append(z_values[i]-initial)\n",
    "\n",
    "    lst_joined = ','.join(map(str, new))\n",
    "    final_str = str(initial)+':'+lst_joined\n",
    "    # print(new)\n",
    "    absz_values = [abs(x) for x in new]\n",
    "    # print('Max z value:', max(absz_values))\n",
    "\n",
    "    x_bits.append(bits_required(absx_values))\n",
    "    y_bits.append(bits_required(absy_values))\n",
    "    z_bits.append(bits_required(absz_values))"
   ]
  },
  {
   "cell_type": "code",
   "execution_count": 105,
   "metadata": {
    "scrolled": true
   },
   "outputs": [],
   "source": [
    "# x_bits"
   ]
  },
  {
   "cell_type": "code",
   "execution_count": 106,
   "metadata": {},
   "outputs": [
    {
     "data": {
      "image/png": "[encoded data removed]",
      "text/plain": [
       "<Figure size 360x360 with 1 Axes>"
      ]
     },
     "metadata": {
      "needs_background": "light"
     },
     "output_type": "display_data"
    }
   ],
   "source": [
    "plt.boxplot(x_bits)\n",
    "# plt.boxplot(y_bits)\n",
    "# plt.boxplot(z_bits)\n",
    "plt.show()"
   ]
  },
  {
   "cell_type": "code",
   "execution_count": 107,
   "metadata": {},
   "outputs": [
    {
     "data": {
      "image/png": "[encoded data removed]",
      "text/plain": [
       "<Figure size 360x360 with 1 Axes>"
      ]
     },
     "metadata": {
      "needs_background": "light"
     },
     "output_type": "display_data"
    }
   ],
   "source": [
    "plt.boxplot(y_bits)\n",
    "plt.show()"
   ]
  },
  {
   "cell_type": "code",
   "execution_count": 108,
   "metadata": {},
   "outputs": [
    {
     "data": {
      "image/png": "[encoded data removed]",
      "text/plain": [
       "<Figure size 360x360 with 1 Axes>"
      ]
     },
     "metadata": {
      "needs_background": "light"
     },
     "output_type": "display_data"
    }
   ],
   "source": [
    "plt.boxplot(z_bits)\n",
    "plt.show()"
   ]
  },
  {
   "cell_type": "code",
   "execution_count": 109,
   "metadata": {},
   "outputs": [
    {
     "data": {
      "text/html": [
       "<div>\n",
       "<style scoped>\n",
       "    .dataframe tbody tr th:only-of-type {\n",
       "        vertical-align: middle;\n",
       "    }\n",
       "\n",
       "    .dataframe tbody tr th {\n",
       "        vertical-align: top;\n",
       "    }\n",
       "\n",
       "    .dataframe thead th {\n",
       "        text-align: right;\n",
       "    }\n",
       "</style>\n",
       "<table border=\"1\" class=\"dataframe\">\n",
       "  <thead>\n",
       "    <tr style=\"text-align: right;\">\n",
       "      <th></th>\n",
       "      <th>x_bits</th>\n",
       "      <th>y_bits</th>\n",
       "      <th>z_bits</th>\n",
       "    </tr>\n",
       "  </thead>\n",
       "  <tbody>\n",
       "    <tr>\n",
       "      <th>0</th>\n",
       "      <td>6</td>\n",
       "      <td>8</td>\n",
       "      <td>10</td>\n",
       "    </tr>\n",
       "    <tr>\n",
       "      <th>1</th>\n",
       "      <td>5</td>\n",
       "      <td>10</td>\n",
       "      <td>10</td>\n",
       "    </tr>\n",
       "    <tr>\n",
       "      <th>2</th>\n",
       "      <td>9</td>\n",
       "      <td>10</td>\n",
       "      <td>10</td>\n",
       "    </tr>\n",
       "    <tr>\n",
       "      <th>3</th>\n",
       "      <td>8</td>\n",
       "      <td>9</td>\n",
       "      <td>11</td>\n",
       "    </tr>\n",
       "    <tr>\n",
       "      <th>4</th>\n",
       "      <td>7</td>\n",
       "      <td>10</td>\n",
       "      <td>9</td>\n",
       "    </tr>\n",
       "    <tr>\n",
       "      <th>...</th>\n",
       "      <td>...</td>\n",
       "      <td>...</td>\n",
       "      <td>...</td>\n",
       "    </tr>\n",
       "    <tr>\n",
       "      <th>9995</th>\n",
       "      <td>7</td>\n",
       "      <td>10</td>\n",
       "      <td>9</td>\n",
       "    </tr>\n",
       "    <tr>\n",
       "      <th>9996</th>\n",
       "      <td>5</td>\n",
       "      <td>8</td>\n",
       "      <td>10</td>\n",
       "    </tr>\n",
       "    <tr>\n",
       "      <th>9997</th>\n",
       "      <td>4</td>\n",
       "      <td>10</td>\n",
       "      <td>10</td>\n",
       "    </tr>\n",
       "    <tr>\n",
       "      <th>9998</th>\n",
       "      <td>7</td>\n",
       "      <td>10</td>\n",
       "      <td>9</td>\n",
       "    </tr>\n",
       "    <tr>\n",
       "      <th>9999</th>\n",
       "      <td>4</td>\n",
       "      <td>10</td>\n",
       "      <td>10</td>\n",
       "    </tr>\n",
       "  </tbody>\n",
       "</table>\n",
       "<p>10000 rows × 3 columns</p>\n",
       "</div>"
      ],
      "text/plain": [
       "      x_bits  y_bits  z_bits\n",
       "0          6       8      10\n",
       "1          5      10      10\n",
       "2          9      10      10\n",
       "3          8       9      11\n",
       "4          7      10       9\n",
       "...      ...     ...     ...\n",
       "9995       7      10       9\n",
       "9996       5       8      10\n",
       "9997       4      10      10\n",
       "9998       7      10       9\n",
       "9999       4      10      10\n",
       "\n",
       "[10000 rows x 3 columns]"
      ]
     },
     "execution_count": 109,
     "metadata": {},
     "output_type": "execute_result"
    }
   ],
   "source": [
    "bits_df = pd.DataFrame(data=list(zip(x_bits, y_bits, z_bits)), columns=['x_bits', 'y_bits', 'z_bits'])\n",
    "bits_df"
   ]
  },
  {
   "cell_type": "code",
   "execution_count": 110,
   "metadata": {},
   "outputs": [
    {
     "data": {
      "text/html": [
       "<div>\n",
       "<style scoped>\n",
       "    .dataframe tbody tr th:only-of-type {\n",
       "        vertical-align: middle;\n",
       "    }\n",
       "\n",
       "    .dataframe tbody tr th {\n",
       "        vertical-align: top;\n",
       "    }\n",
       "\n",
       "    .dataframe thead th {\n",
       "        text-align: right;\n",
       "    }\n",
       "</style>\n",
       "<table border=\"1\" class=\"dataframe\">\n",
       "  <thead>\n",
       "    <tr style=\"text-align: right;\">\n",
       "      <th></th>\n",
       "      <th>x_bits</th>\n",
       "      <th>y_bits</th>\n",
       "      <th>z_bits</th>\n",
       "      <th>total_bits</th>\n",
       "    </tr>\n",
       "  </thead>\n",
       "  <tbody>\n",
       "    <tr>\n",
       "      <th>0</th>\n",
       "      <td>6</td>\n",
       "      <td>8</td>\n",
       "      <td>10</td>\n",
       "      <td>24</td>\n",
       "    </tr>\n",
       "    <tr>\n",
       "      <th>1</th>\n",
       "      <td>5</td>\n",
       "      <td>10</td>\n",
       "      <td>10</td>\n",
       "      <td>25</td>\n",
       "    </tr>\n",
       "    <tr>\n",
       "      <th>2</th>\n",
       "      <td>9</td>\n",
       "      <td>10</td>\n",
       "      <td>10</td>\n",
       "      <td>29</td>\n",
       "    </tr>\n",
       "    <tr>\n",
       "      <th>3</th>\n",
       "      <td>8</td>\n",
       "      <td>9</td>\n",
       "      <td>11</td>\n",
       "      <td>28</td>\n",
       "    </tr>\n",
       "    <tr>\n",
       "      <th>4</th>\n",
       "      <td>7</td>\n",
       "      <td>10</td>\n",
       "      <td>9</td>\n",
       "      <td>26</td>\n",
       "    </tr>\n",
       "    <tr>\n",
       "      <th>...</th>\n",
       "      <td>...</td>\n",
       "      <td>...</td>\n",
       "      <td>...</td>\n",
       "      <td>...</td>\n",
       "    </tr>\n",
       "    <tr>\n",
       "      <th>9995</th>\n",
       "      <td>7</td>\n",
       "      <td>10</td>\n",
       "      <td>9</td>\n",
       "      <td>26</td>\n",
       "    </tr>\n",
       "    <tr>\n",
       "      <th>9996</th>\n",
       "      <td>5</td>\n",
       "      <td>8</td>\n",
       "      <td>10</td>\n",
       "      <td>23</td>\n",
       "    </tr>\n",
       "    <tr>\n",
       "      <th>9997</th>\n",
       "      <td>4</td>\n",
       "      <td>10</td>\n",
       "      <td>10</td>\n",
       "      <td>24</td>\n",
       "    </tr>\n",
       "    <tr>\n",
       "      <th>9998</th>\n",
       "      <td>7</td>\n",
       "      <td>10</td>\n",
       "      <td>9</td>\n",
       "      <td>26</td>\n",
       "    </tr>\n",
       "    <tr>\n",
       "      <th>9999</th>\n",
       "      <td>4</td>\n",
       "      <td>10</td>\n",
       "      <td>10</td>\n",
       "      <td>24</td>\n",
       "    </tr>\n",
       "  </tbody>\n",
       "</table>\n",
       "<p>10000 rows × 4 columns</p>\n",
       "</div>"
      ],
      "text/plain": [
       "      x_bits  y_bits  z_bits  total_bits\n",
       "0          6       8      10          24\n",
       "1          5      10      10          25\n",
       "2          9      10      10          29\n",
       "3          8       9      11          28\n",
       "4          7      10       9          26\n",
       "...      ...     ...     ...         ...\n",
       "9995       7      10       9          26\n",
       "9996       5       8      10          23\n",
       "9997       4      10      10          24\n",
       "9998       7      10       9          26\n",
       "9999       4      10      10          24\n",
       "\n",
       "[10000 rows x 4 columns]"
      ]
     },
     "execution_count": 110,
     "metadata": {},
     "output_type": "execute_result"
    }
   ],
   "source": [
    "bits_df['total_bits'] = bits_df['x_bits'] + bits_df['y_bits'] + bits_df['z_bits']\n",
    "bits_df"
   ]
  },
  {
   "cell_type": "code",
   "execution_count": 111,
   "metadata": {
    "scrolled": false
   },
   "outputs": [
    {
     "data": {
      "text/html": [
       "<div>\n",
       "<style scoped>\n",
       "    .dataframe tbody tr th:only-of-type {\n",
       "        vertical-align: middle;\n",
       "    }\n",
       "\n",
       "    .dataframe tbody tr th {\n",
       "        vertical-align: top;\n",
       "    }\n",
       "\n",
       "    .dataframe thead th {\n",
       "        text-align: right;\n",
       "    }\n",
       "</style>\n",
       "<table border=\"1\" class=\"dataframe\">\n",
       "  <thead>\n",
       "    <tr style=\"text-align: right;\">\n",
       "      <th></th>\n",
       "      <th>x_bits</th>\n",
       "      <th>y_bits</th>\n",
       "      <th>z_bits</th>\n",
       "      <th>total_bits</th>\n",
       "      <th>50_samples</th>\n",
       "      <th>100_samples</th>\n",
       "      <th>150_samples</th>\n",
       "      <th>200_samples</th>\n",
       "      <th>250_samples</th>\n",
       "      <th>300_samples</th>\n",
       "      <th>350_samples</th>\n",
       "    </tr>\n",
       "  </thead>\n",
       "  <tbody>\n",
       "    <tr>\n",
       "      <th>0</th>\n",
       "      <td>6</td>\n",
       "      <td>8</td>\n",
       "      <td>10</td>\n",
       "      <td>24</td>\n",
       "      <td>1218</td>\n",
       "      <td>2418</td>\n",
       "      <td>3618</td>\n",
       "      <td>4818</td>\n",
       "      <td>6018</td>\n",
       "      <td>7218</td>\n",
       "      <td>8418</td>\n",
       "    </tr>\n",
       "    <tr>\n",
       "      <th>1</th>\n",
       "      <td>5</td>\n",
       "      <td>10</td>\n",
       "      <td>10</td>\n",
       "      <td>25</td>\n",
       "      <td>1267</td>\n",
       "      <td>2517</td>\n",
       "      <td>3767</td>\n",
       "      <td>5017</td>\n",
       "      <td>6267</td>\n",
       "      <td>7517</td>\n",
       "      <td>8767</td>\n",
       "    </tr>\n",
       "    <tr>\n",
       "      <th>2</th>\n",
       "      <td>9</td>\n",
       "      <td>10</td>\n",
       "      <td>10</td>\n",
       "      <td>29</td>\n",
       "      <td>1463</td>\n",
       "      <td>2913</td>\n",
       "      <td>4363</td>\n",
       "      <td>5813</td>\n",
       "      <td>7263</td>\n",
       "      <td>8713</td>\n",
       "      <td>10163</td>\n",
       "    </tr>\n",
       "    <tr>\n",
       "      <th>3</th>\n",
       "      <td>8</td>\n",
       "      <td>9</td>\n",
       "      <td>11</td>\n",
       "      <td>28</td>\n",
       "      <td>1414</td>\n",
       "      <td>2814</td>\n",
       "      <td>4214</td>\n",
       "      <td>5614</td>\n",
       "      <td>7014</td>\n",
       "      <td>8414</td>\n",
       "      <td>9814</td>\n",
       "    </tr>\n",
       "    <tr>\n",
       "      <th>4</th>\n",
       "      <td>7</td>\n",
       "      <td>10</td>\n",
       "      <td>9</td>\n",
       "      <td>26</td>\n",
       "      <td>1316</td>\n",
       "      <td>2616</td>\n",
       "      <td>3916</td>\n",
       "      <td>5216</td>\n",
       "      <td>6516</td>\n",
       "      <td>7816</td>\n",
       "      <td>9116</td>\n",
       "    </tr>\n",
       "    <tr>\n",
       "      <th>...</th>\n",
       "      <td>...</td>\n",
       "      <td>...</td>\n",
       "      <td>...</td>\n",
       "      <td>...</td>\n",
       "      <td>...</td>\n",
       "      <td>...</td>\n",
       "      <td>...</td>\n",
       "      <td>...</td>\n",
       "      <td>...</td>\n",
       "      <td>...</td>\n",
       "      <td>...</td>\n",
       "    </tr>\n",
       "    <tr>\n",
       "      <th>9995</th>\n",
       "      <td>7</td>\n",
       "      <td>10</td>\n",
       "      <td>9</td>\n",
       "      <td>26</td>\n",
       "      <td>1316</td>\n",
       "      <td>2616</td>\n",
       "      <td>3916</td>\n",
       "      <td>5216</td>\n",
       "      <td>6516</td>\n",
       "      <td>7816</td>\n",
       "      <td>9116</td>\n",
       "    </tr>\n",
       "    <tr>\n",
       "      <th>9996</th>\n",
       "      <td>5</td>\n",
       "      <td>8</td>\n",
       "      <td>10</td>\n",
       "      <td>23</td>\n",
       "      <td>1169</td>\n",
       "      <td>2319</td>\n",
       "      <td>3469</td>\n",
       "      <td>4619</td>\n",
       "      <td>5769</td>\n",
       "      <td>6919</td>\n",
       "      <td>8069</td>\n",
       "    </tr>\n",
       "    <tr>\n",
       "      <th>9997</th>\n",
       "      <td>4</td>\n",
       "      <td>10</td>\n",
       "      <td>10</td>\n",
       "      <td>24</td>\n",
       "      <td>1218</td>\n",
       "      <td>2418</td>\n",
       "      <td>3618</td>\n",
       "      <td>4818</td>\n",
       "      <td>6018</td>\n",
       "      <td>7218</td>\n",
       "      <td>8418</td>\n",
       "    </tr>\n",
       "    <tr>\n",
       "      <th>9998</th>\n",
       "      <td>7</td>\n",
       "      <td>10</td>\n",
       "      <td>9</td>\n",
       "      <td>26</td>\n",
       "      <td>1316</td>\n",
       "      <td>2616</td>\n",
       "      <td>3916</td>\n",
       "      <td>5216</td>\n",
       "      <td>6516</td>\n",
       "      <td>7816</td>\n",
       "      <td>9116</td>\n",
       "    </tr>\n",
       "    <tr>\n",
       "      <th>9999</th>\n",
       "      <td>4</td>\n",
       "      <td>10</td>\n",
       "      <td>10</td>\n",
       "      <td>24</td>\n",
       "      <td>1218</td>\n",
       "      <td>2418</td>\n",
       "      <td>3618</td>\n",
       "      <td>4818</td>\n",
       "      <td>6018</td>\n",
       "      <td>7218</td>\n",
       "      <td>8418</td>\n",
       "    </tr>\n",
       "  </tbody>\n",
       "</table>\n",
       "<p>10000 rows × 11 columns</p>\n",
       "</div>"
      ],
      "text/plain": [
       "      x_bits  y_bits  z_bits  total_bits  50_samples  100_samples  \\\n",
       "0          6       8      10          24        1218         2418   \n",
       "1          5      10      10          25        1267         2517   \n",
       "2          9      10      10          29        1463         2913   \n",
       "3          8       9      11          28        1414         2814   \n",
       "4          7      10       9          26        1316         2616   \n",
       "...      ...     ...     ...         ...         ...          ...   \n",
       "9995       7      10       9          26        1316         2616   \n",
       "9996       5       8      10          23        1169         2319   \n",
       "9997       4      10      10          24        1218         2418   \n",
       "9998       7      10       9          26        1316         2616   \n",
       "9999       4      10      10          24        1218         2418   \n",
       "\n",
       "      150_samples  200_samples  250_samples  300_samples  350_samples  \n",
       "0            3618         4818         6018         7218         8418  \n",
       "1            3767         5017         6267         7517         8767  \n",
       "2            4363         5813         7263         8713        10163  \n",
       "3            4214         5614         7014         8414         9814  \n",
       "4            3916         5216         6516         7816         9116  \n",
       "...           ...          ...          ...          ...          ...  \n",
       "9995         3916         5216         6516         7816         9116  \n",
       "9996         3469         4619         5769         6919         8069  \n",
       "9997         3618         4818         6018         7218         8418  \n",
       "9998         3916         5216         6516         7816         9116  \n",
       "9999         3618         4818         6018         7218         8418  \n",
       "\n",
       "[10000 rows x 11 columns]"
      ]
     },
     "execution_count": 111,
     "metadata": {},
     "output_type": "execute_result"
    }
   ],
   "source": [
    "bits_df['50_samples'] = 42 + bits_df['total_bits']*49\n",
    "bits_df['100_samples'] = 42 + bits_df['total_bits']*99\n",
    "bits_df['150_samples'] = 42 + bits_df['total_bits']*149\n",
    "bits_df['200_samples'] = 42 + bits_df['total_bits']*199\n",
    "bits_df['250_samples'] = 42 + bits_df['total_bits']*249\n",
    "bits_df['300_samples'] = 42 + bits_df['total_bits']*299\n",
    "bits_df['350_samples'] = 42 + bits_df['total_bits']*349\n",
    "bits_df"
   ]
  },
  {
   "cell_type": "code",
   "execution_count": 112,
   "metadata": {},
   "outputs": [
    {
     "data": {
      "text/html": [
       "<div>\n",
       "<style scoped>\n",
       "    .dataframe tbody tr th:only-of-type {\n",
       "        vertical-align: middle;\n",
       "    }\n",
       "\n",
       "    .dataframe tbody tr th {\n",
       "        vertical-align: top;\n",
       "    }\n",
       "\n",
       "    .dataframe thead th {\n",
       "        text-align: right;\n",
       "    }\n",
       "</style>\n",
       "<table border=\"1\" class=\"dataframe\">\n",
       "  <thead>\n",
       "    <tr style=\"text-align: right;\">\n",
       "      <th></th>\n",
       "      <th>x_bits</th>\n",
       "      <th>y_bits</th>\n",
       "      <th>z_bits</th>\n",
       "      <th>total_bits</th>\n",
       "      <th>50_samples</th>\n",
       "      <th>100_samples</th>\n",
       "      <th>150_samples</th>\n",
       "      <th>200_samples</th>\n",
       "      <th>250_samples</th>\n",
       "      <th>300_samples</th>\n",
       "      <th>350_samples</th>\n",
       "      <th>50_uc</th>\n",
       "      <th>100_uc</th>\n",
       "      <th>150_uc</th>\n",
       "      <th>200_uc</th>\n",
       "      <th>250_uc</th>\n",
       "      <th>300_uc</th>\n",
       "      <th>350_uc</th>\n",
       "    </tr>\n",
       "  </thead>\n",
       "  <tbody>\n",
       "    <tr>\n",
       "      <th>0</th>\n",
       "      <td>6</td>\n",
       "      <td>8</td>\n",
       "      <td>10</td>\n",
       "      <td>24</td>\n",
       "      <td>1218</td>\n",
       "      <td>2418</td>\n",
       "      <td>3618</td>\n",
       "      <td>4818</td>\n",
       "      <td>6018</td>\n",
       "      <td>7218</td>\n",
       "      <td>8418</td>\n",
       "      <td>2100</td>\n",
       "      <td>4200</td>\n",
       "      <td>6300</td>\n",
       "      <td>8400</td>\n",
       "      <td>10500</td>\n",
       "      <td>12600</td>\n",
       "      <td>14700</td>\n",
       "    </tr>\n",
       "    <tr>\n",
       "      <th>1</th>\n",
       "      <td>5</td>\n",
       "      <td>10</td>\n",
       "      <td>10</td>\n",
       "      <td>25</td>\n",
       "      <td>1267</td>\n",
       "      <td>2517</td>\n",
       "      <td>3767</td>\n",
       "      <td>5017</td>\n",
       "      <td>6267</td>\n",
       "      <td>7517</td>\n",
       "      <td>8767</td>\n",
       "      <td>2100</td>\n",
       "      <td>4200</td>\n",
       "      <td>6300</td>\n",
       "      <td>8400</td>\n",
       "      <td>10500</td>\n",
       "      <td>12600</td>\n",
       "      <td>14700</td>\n",
       "    </tr>\n",
       "    <tr>\n",
       "      <th>2</th>\n",
       "      <td>9</td>\n",
       "      <td>10</td>\n",
       "      <td>10</td>\n",
       "      <td>29</td>\n",
       "      <td>1463</td>\n",
       "      <td>2913</td>\n",
       "      <td>4363</td>\n",
       "      <td>5813</td>\n",
       "      <td>7263</td>\n",
       "      <td>8713</td>\n",
       "      <td>10163</td>\n",
       "      <td>2100</td>\n",
       "      <td>4200</td>\n",
       "      <td>6300</td>\n",
       "      <td>8400</td>\n",
       "      <td>10500</td>\n",
       "      <td>12600</td>\n",
       "      <td>14700</td>\n",
       "    </tr>\n",
       "    <tr>\n",
       "      <th>3</th>\n",
       "      <td>8</td>\n",
       "      <td>9</td>\n",
       "      <td>11</td>\n",
       "      <td>28</td>\n",
       "      <td>1414</td>\n",
       "      <td>2814</td>\n",
       "      <td>4214</td>\n",
       "      <td>5614</td>\n",
       "      <td>7014</td>\n",
       "      <td>8414</td>\n",
       "      <td>9814</td>\n",
       "      <td>2100</td>\n",
       "      <td>4200</td>\n",
       "      <td>6300</td>\n",
       "      <td>8400</td>\n",
       "      <td>10500</td>\n",
       "      <td>12600</td>\n",
       "      <td>14700</td>\n",
       "    </tr>\n",
       "    <tr>\n",
       "      <th>4</th>\n",
       "      <td>7</td>\n",
       "      <td>10</td>\n",
       "      <td>9</td>\n",
       "      <td>26</td>\n",
       "      <td>1316</td>\n",
       "      <td>2616</td>\n",
       "      <td>3916</td>\n",
       "      <td>5216</td>\n",
       "      <td>6516</td>\n",
       "      <td>7816</td>\n",
       "      <td>9116</td>\n",
       "      <td>2100</td>\n",
       "      <td>4200</td>\n",
       "      <td>6300</td>\n",
       "      <td>8400</td>\n",
       "      <td>10500</td>\n",
       "      <td>12600</td>\n",
       "      <td>14700</td>\n",
       "    </tr>\n",
       "    <tr>\n",
       "      <th>...</th>\n",
       "      <td>...</td>\n",
       "      <td>...</td>\n",
       "      <td>...</td>\n",
       "      <td>...</td>\n",
       "      <td>...</td>\n",
       "      <td>...</td>\n",
       "      <td>...</td>\n",
       "      <td>...</td>\n",
       "      <td>...</td>\n",
       "      <td>...</td>\n",
       "      <td>...</td>\n",
       "      <td>...</td>\n",
       "      <td>...</td>\n",
       "      <td>...</td>\n",
       "      <td>...</td>\n",
       "      <td>...</td>\n",
       "      <td>...</td>\n",
       "      <td>...</td>\n",
       "    </tr>\n",
       "    <tr>\n",
       "      <th>9995</th>\n",
       "      <td>7</td>\n",
       "      <td>10</td>\n",
       "      <td>9</td>\n",
       "      <td>26</td>\n",
       "      <td>1316</td>\n",
       "      <td>2616</td>\n",
       "      <td>3916</td>\n",
       "      <td>5216</td>\n",
       "      <td>6516</td>\n",
       "      <td>7816</td>\n",
       "      <td>9116</td>\n",
       "      <td>2100</td>\n",
       "      <td>4200</td>\n",
       "      <td>6300</td>\n",
       "      <td>8400</td>\n",
       "      <td>10500</td>\n",
       "      <td>12600</td>\n",
       "      <td>14700</td>\n",
       "    </tr>\n",
       "    <tr>\n",
       "      <th>9996</th>\n",
       "      <td>5</td>\n",
       "      <td>8</td>\n",
       "      <td>10</td>\n",
       "      <td>23</td>\n",
       "      <td>1169</td>\n",
       "      <td>2319</td>\n",
       "      <td>3469</td>\n",
       "      <td>4619</td>\n",
       "      <td>5769</td>\n",
       "      <td>6919</td>\n",
       "      <td>8069</td>\n",
       "      <td>2100</td>\n",
       "      <td>4200</td>\n",
       "      <td>6300</td>\n",
       "      <td>8400</td>\n",
       "      <td>10500</td>\n",
       "      <td>12600</td>\n",
       "      <td>14700</td>\n",
       "    </tr>\n",
       "    <tr>\n",
       "      <th>9997</th>\n",
       "      <td>4</td>\n",
       "      <td>10</td>\n",
       "      <td>10</td>\n",
       "      <td>24</td>\n",
       "      <td>1218</td>\n",
       "      <td>2418</td>\n",
       "      <td>3618</td>\n",
       "      <td>4818</td>\n",
       "      <td>6018</td>\n",
       "      <td>7218</td>\n",
       "      <td>8418</td>\n",
       "      <td>2100</td>\n",
       "      <td>4200</td>\n",
       "      <td>6300</td>\n",
       "      <td>8400</td>\n",
       "      <td>10500</td>\n",
       "      <td>12600</td>\n",
       "      <td>14700</td>\n",
       "    </tr>\n",
       "    <tr>\n",
       "      <th>9998</th>\n",
       "      <td>7</td>\n",
       "      <td>10</td>\n",
       "      <td>9</td>\n",
       "      <td>26</td>\n",
       "      <td>1316</td>\n",
       "      <td>2616</td>\n",
       "      <td>3916</td>\n",
       "      <td>5216</td>\n",
       "      <td>6516</td>\n",
       "      <td>7816</td>\n",
       "      <td>9116</td>\n",
       "      <td>2100</td>\n",
       "      <td>4200</td>\n",
       "      <td>6300</td>\n",
       "      <td>8400</td>\n",
       "      <td>10500</td>\n",
       "      <td>12600</td>\n",
       "      <td>14700</td>\n",
       "    </tr>\n",
       "    <tr>\n",
       "      <th>9999</th>\n",
       "      <td>4</td>\n",
       "      <td>10</td>\n",
       "      <td>10</td>\n",
       "      <td>24</td>\n",
       "      <td>1218</td>\n",
       "      <td>2418</td>\n",
       "      <td>3618</td>\n",
       "      <td>4818</td>\n",
       "      <td>6018</td>\n",
       "      <td>7218</td>\n",
       "      <td>8418</td>\n",
       "      <td>2100</td>\n",
       "      <td>4200</td>\n",
       "      <td>6300</td>\n",
       "      <td>8400</td>\n",
       "      <td>10500</td>\n",
       "      <td>12600</td>\n",
       "      <td>14700</td>\n",
       "    </tr>\n",
       "  </tbody>\n",
       "</table>\n",
       "<p>10000 rows × 18 columns</p>\n",
       "</div>"
      ],
      "text/plain": [
       "      x_bits  y_bits  z_bits  total_bits  50_samples  100_samples  \\\n",
       "0          6       8      10          24        1218         2418   \n",
       "1          5      10      10          25        1267         2517   \n",
       "2          9      10      10          29        1463         2913   \n",
       "3          8       9      11          28        1414         2814   \n",
       "4          7      10       9          26        1316         2616   \n",
       "...      ...     ...     ...         ...         ...          ...   \n",
       "9995       7      10       9          26        1316         2616   \n",
       "9996       5       8      10          23        1169         2319   \n",
       "9997       4      10      10          24        1218         2418   \n",
       "9998       7      10       9          26        1316         2616   \n",
       "9999       4      10      10          24        1218         2418   \n",
       "\n",
       "      150_samples  200_samples  250_samples  300_samples  350_samples  50_uc  \\\n",
       "0            3618         4818         6018         7218         8418   2100   \n",
       "1            3767         5017         6267         7517         8767   2100   \n",
       "2            4363         5813         7263         8713        10163   2100   \n",
       "3            4214         5614         7014         8414         9814   2100   \n",
       "4            3916         5216         6516         7816         9116   2100   \n",
       "...           ...          ...          ...          ...          ...    ...   \n",
       "9995         3916         5216         6516         7816         9116   2100   \n",
       "9996         3469         4619         5769         6919         8069   2100   \n",
       "9997         3618         4818         6018         7218         8418   2100   \n",
       "9998         3916         5216         6516         7816         9116   2100   \n",
       "9999         3618         4818         6018         7218         8418   2100   \n",
       "\n",
       "      100_uc  150_uc  200_uc  250_uc  300_uc  350_uc  \n",
       "0       4200    6300    8400   10500   12600   14700  \n",
       "1       4200    6300    8400   10500   12600   14700  \n",
       "2       4200    6300    8400   10500   12600   14700  \n",
       "3       4200    6300    8400   10500   12600   14700  \n",
       "4       4200    6300    8400   10500   12600   14700  \n",
       "...      ...     ...     ...     ...     ...     ...  \n",
       "9995    4200    6300    8400   10500   12600   14700  \n",
       "9996    4200    6300    8400   10500   12600   14700  \n",
       "9997    4200    6300    8400   10500   12600   14700  \n",
       "9998    4200    6300    8400   10500   12600   14700  \n",
       "9999    4200    6300    8400   10500   12600   14700  \n",
       "\n",
       "[10000 rows x 18 columns]"
      ]
     },
     "execution_count": 112,
     "metadata": {},
     "output_type": "execute_result"
    }
   ],
   "source": [
    "# what about sign? does it require an extra bit?\n",
    "# uc = uncompressed\n",
    "bits_df['50_uc'] = 42*50\n",
    "bits_df['100_uc'] = 42*100\n",
    "bits_df['150_uc'] = 42*150\n",
    "bits_df['200_uc'] = 42*200\n",
    "bits_df['250_uc'] = 42*250\n",
    "bits_df['300_uc'] = 42*300\n",
    "bits_df['350_uc'] = 42*350\n",
    "bits_df"
   ]
  },
  {
   "cell_type": "code",
   "execution_count": 148,
   "metadata": {},
   "outputs": [
    {
     "data": {
      "image/png": "[encoded data removed]",
      "text/plain": [
       "<Figure size 720x374.4 with 3 Axes>"
      ]
     },
     "metadata": {
      "needs_background": "light"
     },
     "output_type": "display_data"
    },
    {
     "data": {
      "image/png": "[encoded data removed]",
      "text/plain": [
       "<Figure size 720x374.4 with 3 Axes>"
      ]
     },
     "metadata": {
      "needs_background": "light"
     },
     "output_type": "display_data"
    },
    {
     "data": {
      "image/png": "[encoded data removed]",
      "text/plain": [
       "<Figure size 720x374.4 with 3 Axes>"
      ]
     },
     "metadata": {
      "needs_background": "light"
     },
     "output_type": "display_data"
    },
    {
     "data": {
      "image/png": "[encoded data removed]",
      "text/plain": [
       "<Figure size 720x374.4 with 3 Axes>"
      ]
     },
     "metadata": {
      "needs_background": "light"
     },
     "output_type": "display_data"
    }
   ],
   "source": [
    "from pylab import rcParams\n",
    "import matplotlib.gridspec as gridspec\n",
    "rcParams['figure.figsize'] = 10, 5.2 # width, height (both in inches)\n",
    "gs = gridspec.GridSpec(1, 3) # 1 row, 3 columns\n",
    "\n",
    "fig = plt.figure()\n",
    "ax = fig.add_subplot(gs[0, 0])\n",
    "ax.boxplot(bits_df['350_samples'])\n",
    "ax.axhline(y=bits_df['350_uc'][0], xmin=0, xmax=1, color='r')\n",
    "ax.title.set_text('Size in Bits')\n",
    "\n",
    "ax2 = fig.add_subplot(gs[0, 1])\n",
    "ax2.boxplot(bits_df['350_samples']*100/bits_df['350_uc'])\n",
    "ax2.title.set_text('Compression Percentage')\n",
    "\n",
    "ax3 = fig.add_subplot(gs[0, 2])\n",
    "ax3.boxplot(bits_df['350_samples']/8)\n",
    "ax3.axhline(y=bits_df['350_uc'][0]/8, xmin=0, xmax=1, color='r')\n",
    "ax3.title.set_text('Size in Bytes')\n",
    "\n",
    "plt.suptitle('350 Samples')\n",
    "plt.show()\n",
    "#----------------------------------------------------------\n",
    "\n",
    "fig = plt.figure()\n",
    "ax = fig.add_subplot(gs[0, 0])\n",
    "ax.boxplot(bits_df['300_samples'])\n",
    "ax.axhline(y=bits_df['300_uc'][0], xmin=0, xmax=1, color='r')\n",
    "ax.title.set_text('Size in Bits')\n",
    "\n",
    "ax2 = fig.add_subplot(gs[0, 1])\n",
    "ax2.boxplot(bits_df['300_samples']*100/bits_df['300_uc'])\n",
    "ax2.title.set_text('Compression Percentage')\n",
    "\n",
    "ax3 = fig.add_subplot(gs[0, 2])\n",
    "ax3.boxplot(bits_df['300_samples']/8)\n",
    "ax3.axhline(y=bits_df['300_uc'][0]/8, xmin=0, xmax=1, color='r')\n",
    "ax3.title.set_text('Size in Bytes')\n",
    "\n",
    "plt.suptitle('300 Samples')\n",
    "plt.show()\n",
    "#----------------------------------------------------------\n",
    "\n",
    "fig = plt.figure()\n",
    "ax = fig.add_subplot(gs[0, 0])\n",
    "ax.boxplot(bits_df['250_samples'])\n",
    "ax.axhline(y=bits_df['250_uc'][0], xmin=0, xmax=1, color='r')\n",
    "ax.title.set_text('Size in Bits')\n",
    "\n",
    "ax2 = fig.add_subplot(gs[0, 1])\n",
    "ax2.boxplot(bits_df['250_samples']*100/bits_df['250_uc'])\n",
    "ax2.title.set_text('Compression Percentage')\n",
    "\n",
    "ax3 = fig.add_subplot(gs[0, 2])\n",
    "ax3.boxplot(bits_df['250_samples']/8)\n",
    "ax3.axhline(y=bits_df['250_uc'][0]/8, xmin=0, xmax=1, color='r')\n",
    "ax3.title.set_text('Size in Bytes')\n",
    "\n",
    "plt.suptitle('250 Samples')\n",
    "plt.show()\n",
    "#----------------------------------------------------------\n",
    "\n",
    "fig = plt.figure()\n",
    "ax = fig.add_subplot(gs[0, 0]) # row, column\n",
    "ax.boxplot(bits_df['200_samples'])\n",
    "ax.axhline(y=bits_df['200_uc'][0], xmin=0, xmax=1, color='r')\n",
    "ax.title.set_text('Size in Bits')\n",
    "\n",
    "ax2 = fig.add_subplot(gs[0, 1])\n",
    "ax2.boxplot(bits_df['200_samples']*100/bits_df['200_uc'])\n",
    "ax2.title.set_text('Compression Percentage')\n",
    "\n",
    "ax3 = fig.add_subplot(gs[0, 2])\n",
    "ax3.boxplot(bits_df['200_samples']/8)\n",
    "ax3.axhline(y=bits_df['200_uc'][0]/8, xmin=0, xmax=1, color='r')\n",
    "ax3.title.set_text('Size in Bytes')\n",
    "\n",
    "plt.suptitle('200 Samples')\n",
    "plt.show()"
   ]
  },
  {
   "cell_type": "code",
   "execution_count": null,
   "metadata": {},
   "outputs": [],
   "source": []
  },
  {
   "cell_type": "code",
   "execution_count": null,
   "metadata": {},
   "outputs": [],
   "source": []
  },
  {
   "cell_type": "code",
   "execution_count": null,
   "metadata": {},
   "outputs": [],
   "source": []
  }
 ],
 "metadata": {
  "kernelspec": {
   "display_name": "Python 3",
   "language": "python",
   "name": "python3"
  },
  "language_info": {
   "codemirror_mode": {
    "name": "ipython",
    "version": 3
   },
   "file_extension": ".py",
   "mimetype": "text/x-python",
   "name": "python",
   "nbconvert_exporter": "python",
   "pygments_lexer": "ipython3",
   "version": "3.7.1"
  }
 },
 "nbformat": 4,
 "nbformat_minor": 2
}
