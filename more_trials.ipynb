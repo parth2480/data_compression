{
 "cells": [
  {
   "cell_type": "code",
   "execution_count": 3,
   "metadata": {},
   "outputs": [],
   "source": [
    "import numpy as np\n",
    "import scipy as sp\n",
    "import pandas as pd\n",
    "import os\n",
    "import matplotlib.pyplot as plt\n",
    "import zlib\n",
    "import sys\n",
    "import compress\n",
    "import random\n",
    "import lzma"
   ]
  },
  {
   "cell_type": "code",
   "execution_count": 4,
   "metadata": {},
   "outputs": [
    {
     "data": {
      "text/plain": [
       "<compress.compressor.Compressor at 0x17e1f405438>"
      ]
     },
     "execution_count": 4,
     "metadata": {},
     "output_type": "execute_result"
    }
   ],
   "source": [
    "from compress import Compressor\n",
    "c = Compressor()\n",
    "c.use_zlib()"
   ]
  },
  {
   "cell_type": "code",
   "execution_count": 6,
   "metadata": {
    "scrolled": false
   },
   "outputs": [
    {
     "data": {
      "text/html": [
       "<div>\n",
       "<style scoped>\n",
       "    .dataframe tbody tr th:only-of-type {\n",
       "        vertical-align: middle;\n",
       "    }\n",
       "\n",
       "    .dataframe tbody tr th {\n",
       "        vertical-align: top;\n",
       "    }\n",
       "\n",
       "    .dataframe thead th {\n",
       "        text-align: right;\n",
       "    }\n",
       "</style>\n",
       "<table border=\"1\" class=\"dataframe\">\n",
       "  <thead>\n",
       "    <tr style=\"text-align: right;\">\n",
       "      <th></th>\n",
       "      <th>Time</th>\n",
       "      <th>X</th>\n",
       "      <th>Y</th>\n",
       "      <th>Z</th>\n",
       "    </tr>\n",
       "  </thead>\n",
       "  <tbody>\n",
       "    <tr>\n",
       "      <td>0</td>\n",
       "      <td>1457857818.466883691</td>\n",
       "      <td>-8.4609</td>\n",
       "      <td>8.4766</td>\n",
       "      <td>4.5234</td>\n",
       "    </tr>\n",
       "    <tr>\n",
       "      <td>1</td>\n",
       "      <td>1457857818.481750410</td>\n",
       "      <td>-8.4453</td>\n",
       "      <td>8.5234</td>\n",
       "      <td>4.5781</td>\n",
       "    </tr>\n",
       "    <tr>\n",
       "      <td>2</td>\n",
       "      <td>1457857818.496617129</td>\n",
       "      <td>-8.4922</td>\n",
       "      <td>8.5078</td>\n",
       "      <td>4.6094</td>\n",
       "    </tr>\n",
       "    <tr>\n",
       "      <td>3</td>\n",
       "      <td>1457857818.511483848</td>\n",
       "      <td>-8.5000</td>\n",
       "      <td>8.9922</td>\n",
       "      <td>4.4609</td>\n",
       "    </tr>\n",
       "    <tr>\n",
       "      <td>4</td>\n",
       "      <td>1457857818.526350567</td>\n",
       "      <td>-8.4609</td>\n",
       "      <td>9.1953</td>\n",
       "      <td>4.4219</td>\n",
       "    </tr>\n",
       "    <tr>\n",
       "      <td>...</td>\n",
       "      <td>...</td>\n",
       "      <td>...</td>\n",
       "      <td>...</td>\n",
       "      <td>...</td>\n",
       "    </tr>\n",
       "    <tr>\n",
       "      <td>724656</td>\n",
       "      <td>1457868591.660651464</td>\n",
       "      <td>-1.3672</td>\n",
       "      <td>7.3516</td>\n",
       "      <td>4.5781</td>\n",
       "    </tr>\n",
       "    <tr>\n",
       "      <td>724657</td>\n",
       "      <td>1457868591.675518183</td>\n",
       "      <td>-1.3984</td>\n",
       "      <td>7.4688</td>\n",
       "      <td>4.5312</td>\n",
       "    </tr>\n",
       "    <tr>\n",
       "      <td>724658</td>\n",
       "      <td>1457868591.690384902</td>\n",
       "      <td>-1.3750</td>\n",
       "      <td>7.9609</td>\n",
       "      <td>4.3906</td>\n",
       "    </tr>\n",
       "    <tr>\n",
       "      <td>724659</td>\n",
       "      <td>1457868591.705251621</td>\n",
       "      <td>-1.3672</td>\n",
       "      <td>8.1172</td>\n",
       "      <td>4.4844</td>\n",
       "    </tr>\n",
       "    <tr>\n",
       "      <td>724660</td>\n",
       "      <td>1457868591.720118340</td>\n",
       "      <td>-1.3281</td>\n",
       "      <td>8.0625</td>\n",
       "      <td>4.6406</td>\n",
       "    </tr>\n",
       "  </tbody>\n",
       "</table>\n",
       "<p>724661 rows × 4 columns</p>\n",
       "</div>"
      ],
      "text/plain": [
       "                        Time       X       Y       Z\n",
       "0       1457857818.466883691 -8.4609  8.4766  4.5234\n",
       "1       1457857818.481750410 -8.4453  8.5234  4.5781\n",
       "2       1457857818.496617129 -8.4922  8.5078  4.6094\n",
       "3       1457857818.511483848 -8.5000  8.9922  4.4609\n",
       "4       1457857818.526350567 -8.4609  9.1953  4.4219\n",
       "...                      ...     ...     ...     ...\n",
       "724656  1457868591.660651464 -1.3672  7.3516  4.5781\n",
       "724657  1457868591.675518183 -1.3984  7.4688  4.5312\n",
       "724658  1457868591.690384902 -1.3750  7.9609  4.3906\n",
       "724659  1457868591.705251621 -1.3672  8.1172  4.4844\n",
       "724660  1457868591.720118340 -1.3281  8.0625  4.6406\n",
       "\n",
       "[724661 rows x 4 columns]"
      ]
     },
     "execution_count": 6,
     "metadata": {},
     "output_type": "execute_result"
    }
   ],
   "source": [
    "data_df = pd.read_csv('C1_160313.txt', sep=\",\", engine='python')\n",
    "data_df.columns = ['Time', 'X', 'Y', 'Z']\n",
    "data_df.astype({'Y': 'float64'})"
   ]
  },
  {
   "cell_type": "code",
   "execution_count": 7,
   "metadata": {
    "scrolled": true
   },
   "outputs": [
    {
     "data": {
      "text/plain": [
       "Time    0\n",
       "X       0\n",
       "Y       0\n",
       "Z       0\n",
       "dtype: int64"
      ]
     },
     "execution_count": 7,
     "metadata": {},
     "output_type": "execute_result"
    }
   ],
   "source": [
    "data_df = data_df.dropna()\n",
    "data_df.isnull().sum()"
   ]
  },
  {
   "cell_type": "code",
   "execution_count": 8,
   "metadata": {},
   "outputs": [
    {
     "data": {
      "text/plain": [
       "Time    object\n",
       "X        int16\n",
       "Y        int16\n",
       "Z        int16\n",
       "dtype: object"
      ]
     },
     "execution_count": 8,
     "metadata": {},
     "output_type": "execute_result"
    }
   ],
   "source": [
    "data_df['X'] = data_df['X']/0.0078125\n",
    "data_df['Y'] = data_df['Y']/0.0078125\n",
    "data_df['Z'] = data_df['Z']/0.0078125\n",
    "data_df = data_df.astype({'X': 'int16',\n",
    "               'Y': 'int16',\n",
    "               'Z': 'int16'})\n",
    "data_df.dtypes"
   ]
  },
  {
   "cell_type": "code",
   "execution_count": 32,
   "metadata": {},
   "outputs": [
    {
     "data": {
      "text/html": [
       "<div>\n",
       "<style scoped>\n",
       "    .dataframe tbody tr th:only-of-type {\n",
       "        vertical-align: middle;\n",
       "    }\n",
       "\n",
       "    .dataframe tbody tr th {\n",
       "        vertical-align: top;\n",
       "    }\n",
       "\n",
       "    .dataframe thead th {\n",
       "        text-align: right;\n",
       "    }\n",
       "</style>\n",
       "<table border=\"1\" class=\"dataframe\">\n",
       "  <thead>\n",
       "    <tr style=\"text-align: right;\">\n",
       "      <th></th>\n",
       "      <th>Time</th>\n",
       "      <th>X</th>\n",
       "      <th>Y</th>\n",
       "      <th>Z</th>\n",
       "    </tr>\n",
       "  </thead>\n",
       "  <tbody>\n",
       "    <tr>\n",
       "      <th>0</th>\n",
       "      <td>1457857818.466883691</td>\n",
       "      <td>-1082</td>\n",
       "      <td>1085</td>\n",
       "      <td>578</td>\n",
       "    </tr>\n",
       "    <tr>\n",
       "      <th>1</th>\n",
       "      <td>1457857818.481750410</td>\n",
       "      <td>-1080</td>\n",
       "      <td>1090</td>\n",
       "      <td>585</td>\n",
       "    </tr>\n",
       "    <tr>\n",
       "      <th>2</th>\n",
       "      <td>1457857818.496617129</td>\n",
       "      <td>-1087</td>\n",
       "      <td>1088</td>\n",
       "      <td>590</td>\n",
       "    </tr>\n",
       "    <tr>\n",
       "      <th>3</th>\n",
       "      <td>1457857818.511483848</td>\n",
       "      <td>-1088</td>\n",
       "      <td>1151</td>\n",
       "      <td>570</td>\n",
       "    </tr>\n",
       "    <tr>\n",
       "      <th>4</th>\n",
       "      <td>1457857818.526350567</td>\n",
       "      <td>-1082</td>\n",
       "      <td>1176</td>\n",
       "      <td>566</td>\n",
       "    </tr>\n",
       "    <tr>\n",
       "      <th>...</th>\n",
       "      <td>...</td>\n",
       "      <td>...</td>\n",
       "      <td>...</td>\n",
       "      <td>...</td>\n",
       "    </tr>\n",
       "    <tr>\n",
       "      <th>724656</th>\n",
       "      <td>1457868591.660651464</td>\n",
       "      <td>-175</td>\n",
       "      <td>941</td>\n",
       "      <td>585</td>\n",
       "    </tr>\n",
       "    <tr>\n",
       "      <th>724657</th>\n",
       "      <td>1457868591.675518183</td>\n",
       "      <td>-178</td>\n",
       "      <td>956</td>\n",
       "      <td>579</td>\n",
       "    </tr>\n",
       "    <tr>\n",
       "      <th>724658</th>\n",
       "      <td>1457868591.690384902</td>\n",
       "      <td>-176</td>\n",
       "      <td>1018</td>\n",
       "      <td>561</td>\n",
       "    </tr>\n",
       "    <tr>\n",
       "      <th>724659</th>\n",
       "      <td>1457868591.705251621</td>\n",
       "      <td>-175</td>\n",
       "      <td>1039</td>\n",
       "      <td>574</td>\n",
       "    </tr>\n",
       "    <tr>\n",
       "      <th>724660</th>\n",
       "      <td>1457868591.720118340</td>\n",
       "      <td>-169</td>\n",
       "      <td>1032</td>\n",
       "      <td>593</td>\n",
       "    </tr>\n",
       "  </tbody>\n",
       "</table>\n",
       "<p>710907 rows × 4 columns</p>\n",
       "</div>"
      ],
      "text/plain": [
       "                        Time     X     Y    Z\n",
       "0       1457857818.466883691 -1082  1085  578\n",
       "1       1457857818.481750410 -1080  1090  585\n",
       "2       1457857818.496617129 -1087  1088  590\n",
       "3       1457857818.511483848 -1088  1151  570\n",
       "4       1457857818.526350567 -1082  1176  566\n",
       "...                      ...   ...   ...  ...\n",
       "724656  1457868591.660651464  -175   941  585\n",
       "724657  1457868591.675518183  -178   956  579\n",
       "724658  1457868591.690384902  -176  1018  561\n",
       "724659  1457868591.705251621  -175  1039  574\n",
       "724660  1457868591.720118340  -169  1032  593\n",
       "\n",
       "[710907 rows x 4 columns]"
      ]
     },
     "execution_count": 32,
     "metadata": {},
     "output_type": "execute_result"
    }
   ],
   "source": [
    "data_df"
   ]
  },
  {
   "cell_type": "code",
   "execution_count": 33,
   "metadata": {},
   "outputs": [
    {
     "data": {
      "text/plain": [
       "Time    0\n",
       "X       0\n",
       "Y       0\n",
       "Z       0\n",
       "dtype: int64"
      ]
     },
     "execution_count": 33,
     "metadata": {},
     "output_type": "execute_result"
    }
   ],
   "source": [
    "data_df.isnull().sum()"
   ]
  },
  {
   "cell_type": "code",
   "execution_count": null,
   "metadata": {},
   "outputs": [],
   "source": []
  },
  {
   "cell_type": "code",
   "execution_count": 26,
   "metadata": {},
   "outputs": [
    {
     "data": {
      "text/plain": [
       "Time    float64\n",
       "X         int32\n",
       "Y         int32\n",
       "Z         int32\n",
       "dtype: object"
      ]
     },
     "execution_count": 26,
     "metadata": {},
     "output_type": "execute_result"
    }
   ],
   "source": [
    "data_df = data_df.astype({'Time': 'float64'})\n",
    "data_df.dtypes"
   ]
  },
  {
   "cell_type": "markdown",
   "metadata": {},
   "source": [
    "# 1 second, vary zlib level, measure final size of data (check time for compression later)\n",
    "# ALSO THIS IS FOR SINGLE LIST COMPRESSION NOT 3D ARRAY"
   ]
  },
  {
   "cell_type": "code",
   "execution_count": 29,
   "metadata": {},
   "outputs": [],
   "source": [
    "start = random.randint(0, 650000)\n",
    "df_chunk = data_df[start: start+64]"
   ]
  },
  {
   "cell_type": "code",
   "execution_count": 69,
   "metadata": {},
   "outputs": [
    {
     "data": {
      "text/plain": [
       "array([-65547, -65469, -65391, -65781, -65938, -65859, -65703, -65391,\n",
       "       -65625, -65938, -65859, -66016, -65938, -65859, -65625, -65859,\n",
       "       -66250, -65703, -65781, -65859, -65625, -65781, -65859, -66016,\n",
       "       -66016, -66562, -66250, -66406, -66172, -66328, -66562, -66172,\n",
       "       -66250, -66406, -66094, -66797, -66641, -66406, -66250, -66328,\n",
       "       -66328, -66484, -66406, -66406, -66172, -66172, -66562, -66641,\n",
       "       -65859, -66172, -66641, -66562, -66328, -66875, -66641, -66875,\n",
       "       -66875, -66953, -66484, -66562, -66562, -66953, -66953, -66875])"
      ]
     },
     "execution_count": 69,
     "metadata": {},
     "output_type": "execute_result"
    }
   ],
   "source": [
    "time = np.array(df_chunk['Time'].tolist())\n",
    "x_values = np.array(df_chunk['X'].tolist())\n",
    "y_values = np.array(df_chunk['Y'].tolist())\n",
    "z_values = np.array(df_chunk['Z'].tolist())\n",
    "x_values"
   ]
  },
  {
   "cell_type": "code",
   "execution_count": 117,
   "metadata": {},
   "outputs": [
    {
     "name": "stdout",
     "output_type": "stream",
     "text": [
      "True\n"
     ]
    }
   ],
   "source": [
    "comp_x = [str(x) for x in x_values]\n",
    "comp_x = ','.join(comp_x)\n",
    "initial = comp_x.split(',')\n",
    "\n",
    "comp_x = zlib.compress(bytes(comp_x.encode('utf-8')), 9)\n",
    "decomp_x = zlib.decompress(comp_x).decode()\n",
    "final = decomp_x.split(',')\n",
    "print(initial == final)"
   ]
  },
  {
   "cell_type": "code",
   "execution_count": 120,
   "metadata": {},
   "outputs": [],
   "source": [
    "def compressed_size(values_array, level):\n",
    "    values = [str(x) for x in values_array]\n",
    "    values_str = ','.join(values)\n",
    "    initial = values_str.split(',')\n",
    "    \n",
    "    comp_values = zlib.compress(bytes(values_str.encode('utf-8')), level)\n",
    "    decomp_values = zlib.decompress(comp_values).decode()\n",
    "    final = decomp_values.split(',')\n",
    "    if not initial == final:\n",
    "        raise Exception('Decompressed does not equal compressed')\n",
    "    return sys.getsizeof(comp_values)"
   ]
  },
  {
   "cell_type": "code",
   "execution_count": 190,
   "metadata": {},
   "outputs": [],
   "source": [
    "# use zlib levels of 1, 5, 9\n",
    "uncomp_values = []\n",
    "comp_values1 = []\n",
    "comp_values5 = []\n",
    "comp_values9 = []\n",
    "\n",
    "comp_values_t1 = []\n",
    "comp_values_t5 = []\n",
    "comp_values_t9 = []\n",
    "\n",
    "comp_values_x1 = []\n",
    "comp_values_x5 = []\n",
    "comp_values_x9 = []\n",
    "\n",
    "comp_values_y1 = []\n",
    "comp_values_y5 = []\n",
    "comp_values_y9 = []\n",
    "\n",
    "comp_values_z1 = []\n",
    "comp_values_z5 = []\n",
    "comp_values_z9 = []\n",
    "\n",
    "for i in range(10000):\n",
    "    start = random.randint(0, 650000)\n",
    "    df_chunk = data_df[start: start+64]\n",
    "    \n",
    "    time = np.array(df_chunk['Time'].tolist())\n",
    "    x_values = np.array(df_chunk['X'].tolist())\n",
    "    y_values = np.array(df_chunk['Y'].tolist())\n",
    "    z_values = np.array(df_chunk['Z'].tolist())\n",
    "    \n",
    "    uncomp_values.append(sys.getsizeof(time) +\n",
    "                        sys.getsizeof(x_values) +\n",
    "                        sys.getsizeof(y_values) +\n",
    "                        sys.getsizeof(z_values))\n",
    "    \n",
    "    comp_values_t1.append(compressed_size(time, 1))\n",
    "    comp_values_t5.append(compressed_size(time, 5))\n",
    "    comp_values_t9.append(compressed_size(time, 9))\n",
    "    \n",
    "    comp_values_x1.append(compressed_size(x_values, 1))\n",
    "    comp_values_x5.append(compressed_size(x_values, 5))\n",
    "    comp_values_x9.append(compressed_size(x_values, 9))\n",
    "    \n",
    "    comp_values_y1.append(compressed_size(y_values, 1))\n",
    "    comp_values_y5.append(compressed_size(y_values, 5))\n",
    "    comp_values_y9.append(compressed_size(y_values, 9))\n",
    "    \n",
    "    comp_values_z1.append(compressed_size(z_values, 1))\n",
    "    comp_values_z5.append(compressed_size(z_values, 5))\n",
    "    comp_values_z9.append(compressed_size(z_values, 9))\n",
    "    \n",
    "    total1 = sys.getsizeof(compressed_size(time, 1))+sys.getsizeof(compressed_size(x_values, 1))+sys.getsizeof(compressed_size(y_values, 1))+sys.getsizeof(compressed_size(z_values, 1))\n",
    "    total5 = sys.getsizeof(compressed_size(time, 5))+sys.getsizeof(compressed_size(x_values, 5))+sys.getsizeof(compressed_size(y_values, 5))+sys.getsizeof(compressed_size(z_values, 5))\n",
    "    total9 = sys.getsizeof(compressed_size(time, 9))+sys.getsizeof(compressed_size(x_values, 9))+sys.getsizeof(compressed_size(y_values, 9))+sys.getsizeof(compressed_size(z_values, 9))\n",
    "    \n",
    "    comp_values1.append(total1)\n",
    "    \n",
    "    comp_values5.append(total5)\n",
    "    \n",
    "    comp_values9.append(total9)\n",
    "    "
   ]
  },
  {
   "cell_type": "code",
   "execution_count": 197,
   "metadata": {},
   "outputs": [
    {
     "name": "stdout",
     "output_type": "stream",
     "text": [
      "1664 1664\n",
      "112 112\n",
      "112 112\n",
      "112 112\n"
     ]
    }
   ],
   "source": [
    "print(min(uncomp_values), max(uncomp_values))\n",
    "print(min(comp_values1), max(comp_values1))\n",
    "print(min(comp_values9), max(comp_values9))\n",
    "print(min(comp_values9), max(comp_values9))"
   ]
  },
  {
   "cell_type": "code",
   "execution_count": null,
   "metadata": {},
   "outputs": [],
   "source": []
  },
  {
   "cell_type": "code",
   "execution_count": 192,
   "metadata": {},
   "outputs": [
    {
     "data": {
      "image/png": "[encoded data removed]",
      "text/plain": [
       "<Figure size 432x288 with 1 Axes>"
      ]
     },
     "metadata": {
      "needs_background": "light"
     },
     "output_type": "display_data"
    }
   ],
   "source": [
    "plt.plot(uncomp_values, comp_values1, 'ro', label='Level 1')\n",
    "plt.plot(uncomp_values, comp_values5, 'bv', label='Level 5')\n",
    "plt.plot(uncomp_values, comp_values9, 'gx', label='Level 9')\n",
    "plt.axis([1660, 1668, 110, 114])\n",
    "plt.legend()\n",
    "plt.show()"
   ]
  },
  {
   "cell_type": "code",
   "execution_count": 193,
   "metadata": {},
   "outputs": [
    {
     "data": {
      "image/png": "[encoded data removed]",
      "text/plain": [
       "<Figure size 432x288 with 1 Axes>"
      ]
     },
     "metadata": {
      "needs_background": "light"
     },
     "output_type": "display_data"
    }
   ],
   "source": [
    "plt.plot(uncomp_values, comp_values_x1, 'ro', label='x1')\n",
    "plt.plot(uncomp_values, comp_values_x5, 'rx', label='x5')\n",
    "plt.plot(uncomp_values, comp_values_x9, 'rv', label='x9')\n",
    "plt.plot(uncomp_values, comp_values_y1, 'bo', label='y1')\n",
    "plt.plot(uncomp_values, comp_values_y5, 'bx', label='y5')\n",
    "plt.plot(uncomp_values, comp_values_y9, 'bv', label='y9')\n",
    "plt.plot(uncomp_values, comp_values_z1, 'go', label='z1')\n",
    "plt.plot(uncomp_values, comp_values_z5, 'gx', label='z5')\n",
    "plt.plot(uncomp_values, comp_values_z9, 'gv', label='z9')\n",
    "plt.axis([1662, 1666, 140, 260])\n",
    "plt.legend()\n",
    "plt.show()"
   ]
  },
  {
   "cell_type": "markdown",
   "metadata": {},
   "source": [
    "# LZMA"
   ]
  },
  {
   "cell_type": "code",
   "execution_count": 199,
   "metadata": {
    "scrolled": true
   },
   "outputs": [
    {
     "name": "stdout",
     "output_type": "stream",
     "text": [
      "True\n",
      "576\n",
      "277\n"
     ]
    }
   ],
   "source": [
    "comp_x = [str(x) for x in x_values]\n",
    "comp_x = ','.join(comp_x)\n",
    "initial = comp_x.split(',')\n",
    "\n",
    "comp_x = lzma.compress(bytes(comp_x.encode('utf-8')))\n",
    "decomp_x = lzma.decompress(comp_x).decode()\n",
    "final = decomp_x.split(',')\n",
    "print(initial == final)\n",
    "print(sys.getsizeof(initial))\n",
    "print(sys.getsizeof(comp_x))"
   ]
  },
  {
   "cell_type": "code",
   "execution_count": 171,
   "metadata": {
    "scrolled": true
   },
   "outputs": [
    {
     "ename": "AttributeError",
     "evalue": "module 'snappy' has no attribute 'compress'",
     "output_type": "error",
     "traceback": [
      "\u001b[1;31m---------------------------------------------------------------------------\u001b[0m",
      "\u001b[1;31mAttributeError\u001b[0m                            Traceback (most recent call last)",
      "\u001b[1;32m<ipython-input-171-1a272a945b25>\u001b[0m in \u001b[0;36m<module>\u001b[1;34m\u001b[0m\n\u001b[0;32m      3\u001b[0m \u001b[0minitial\u001b[0m \u001b[1;33m=\u001b[0m \u001b[0mcomp_x\u001b[0m\u001b[1;33m.\u001b[0m\u001b[0msplit\u001b[0m\u001b[1;33m(\u001b[0m\u001b[1;34m','\u001b[0m\u001b[1;33m)\u001b[0m\u001b[1;33m\u001b[0m\u001b[1;33m\u001b[0m\u001b[0m\n\u001b[0;32m      4\u001b[0m \u001b[1;33m\u001b[0m\u001b[0m\n\u001b[1;32m----> 5\u001b[1;33m \u001b[0mcomp_x\u001b[0m \u001b[1;33m=\u001b[0m \u001b[0msnappy\u001b[0m\u001b[1;33m.\u001b[0m\u001b[0mcompress\u001b[0m\u001b[1;33m(\u001b[0m\u001b[0mbytes\u001b[0m\u001b[1;33m(\u001b[0m\u001b[0mcomp_x\u001b[0m\u001b[1;33m.\u001b[0m\u001b[0mencode\u001b[0m\u001b[1;33m(\u001b[0m\u001b[1;34m'utf-8'\u001b[0m\u001b[1;33m)\u001b[0m\u001b[1;33m)\u001b[0m\u001b[1;33m)\u001b[0m\u001b[1;33m\u001b[0m\u001b[1;33m\u001b[0m\u001b[0m\n\u001b[0m\u001b[0;32m      6\u001b[0m \u001b[0mdecomp_x\u001b[0m \u001b[1;33m=\u001b[0m \u001b[0msnappy\u001b[0m\u001b[1;33m.\u001b[0m\u001b[0mdecompress\u001b[0m\u001b[1;33m(\u001b[0m\u001b[0mcomp_x\u001b[0m\u001b[1;33m)\u001b[0m\u001b[1;33m.\u001b[0m\u001b[0mdecode\u001b[0m\u001b[1;33m(\u001b[0m\u001b[1;33m)\u001b[0m\u001b[1;33m\u001b[0m\u001b[1;33m\u001b[0m\u001b[0m\n\u001b[0;32m      7\u001b[0m \u001b[0mfinal\u001b[0m \u001b[1;33m=\u001b[0m \u001b[0mdecomp_x\u001b[0m\u001b[1;33m.\u001b[0m\u001b[0msplit\u001b[0m\u001b[1;33m(\u001b[0m\u001b[1;34m','\u001b[0m\u001b[1;33m)\u001b[0m\u001b[1;33m\u001b[0m\u001b[1;33m\u001b[0m\u001b[0m\n",
      "\u001b[1;31mAttributeError\u001b[0m: module 'snappy' has no attribute 'compress'"
     ]
    }
   ],
   "source": [
    "comp_x = [str(x) for x in x_values]\n",
    "comp_x = ','.join(comp_x)\n",
    "initial = comp_x.split(',')\n",
    "\n",
    "comp_x = snappy.compress(bytes(comp_x.encode('utf-8')))\n",
    "decomp_x = snappy.decompress(comp_x).decode()\n",
    "final = decomp_x.split(',')\n",
    "print(initial == final)\n",
    "# print(initial)\n",
    "# print(final)"
   ]
  },
  {
   "cell_type": "code",
   "execution_count": null,
   "metadata": {},
   "outputs": [],
   "source": []
  },
  {
   "cell_type": "code",
   "execution_count": null,
   "metadata": {},
   "outputs": [],
   "source": []
  },
  {
   "cell_type": "markdown",
   "metadata": {},
   "source": [
    "# RANDOM"
   ]
  },
  {
   "cell_type": "code",
   "execution_count": 9,
   "metadata": {},
   "outputs": [
    {
     "name": "stdout",
     "output_type": "stream",
     "text": [
      "00000000110001\n",
      "-0000000000011\n"
     ]
    }
   ],
   "source": [
    "st = '1'\n",
    "print(''.join('{0:014b}'.format(ord(x), 'b') for x in st))\n",
    "print('{0:014b}'.format(-3))"
   ]
  },
  {
   "cell_type": "code",
   "execution_count": 10,
   "metadata": {},
   "outputs": [
    {
     "data": {
      "text/html": [
       "<div>\n",
       "<style scoped>\n",
       "    .dataframe tbody tr th:only-of-type {\n",
       "        vertical-align: middle;\n",
       "    }\n",
       "\n",
       "    .dataframe tbody tr th {\n",
       "        vertical-align: top;\n",
       "    }\n",
       "\n",
       "    .dataframe thead th {\n",
       "        text-align: right;\n",
       "    }\n",
       "</style>\n",
       "<table border=\"1\" class=\"dataframe\">\n",
       "  <thead>\n",
       "    <tr style=\"text-align: right;\">\n",
       "      <th></th>\n",
       "      <th>X</th>\n",
       "      <th>Y</th>\n",
       "      <th>Z</th>\n",
       "    </tr>\n",
       "  </thead>\n",
       "  <tbody>\n",
       "    <tr>\n",
       "      <td>count</td>\n",
       "      <td>710907.000000</td>\n",
       "      <td>710907.000000</td>\n",
       "      <td>710907.000000</td>\n",
       "    </tr>\n",
       "    <tr>\n",
       "      <td>mean</td>\n",
       "      <td>-798.749368</td>\n",
       "      <td>1045.176643</td>\n",
       "      <td>-100.195964</td>\n",
       "    </tr>\n",
       "    <tr>\n",
       "      <td>std</td>\n",
       "      <td>183.360972</td>\n",
       "      <td>478.466824</td>\n",
       "      <td>485.161339</td>\n",
       "    </tr>\n",
       "    <tr>\n",
       "      <td>min</td>\n",
       "      <td>-1279.000000</td>\n",
       "      <td>-485.000000</td>\n",
       "      <td>-1433.000000</td>\n",
       "    </tr>\n",
       "    <tr>\n",
       "      <td>25%</td>\n",
       "      <td>-883.000000</td>\n",
       "      <td>598.000000</td>\n",
       "      <td>-554.000000</td>\n",
       "    </tr>\n",
       "    <tr>\n",
       "      <td>50%</td>\n",
       "      <td>-822.000000</td>\n",
       "      <td>1046.000000</td>\n",
       "      <td>-99.000000</td>\n",
       "    </tr>\n",
       "    <tr>\n",
       "      <td>75%</td>\n",
       "      <td>-713.000000</td>\n",
       "      <td>1493.500000</td>\n",
       "      <td>354.000000</td>\n",
       "    </tr>\n",
       "    <tr>\n",
       "      <td>max</td>\n",
       "      <td>47.000000</td>\n",
       "      <td>2325.000000</td>\n",
       "      <td>1144.000000</td>\n",
       "    </tr>\n",
       "  </tbody>\n",
       "</table>\n",
       "</div>"
      ],
      "text/plain": [
       "                   X              Y              Z\n",
       "count  710907.000000  710907.000000  710907.000000\n",
       "mean     -798.749368    1045.176643    -100.195964\n",
       "std       183.360972     478.466824     485.161339\n",
       "min     -1279.000000    -485.000000   -1433.000000\n",
       "25%      -883.000000     598.000000    -554.000000\n",
       "50%      -822.000000    1046.000000     -99.000000\n",
       "75%      -713.000000    1493.500000     354.000000\n",
       "max        47.000000    2325.000000    1144.000000"
      ]
     },
     "execution_count": 10,
     "metadata": {},
     "output_type": "execute_result"
    }
   ],
   "source": [
    "data_df.describe()"
   ]
  },
  {
   "cell_type": "code",
   "execution_count": 13,
   "metadata": {},
   "outputs": [
    {
     "data": {
      "text/plain": [
       "list"
      ]
     },
     "execution_count": 13,
     "metadata": {},
     "output_type": "execute_result"
    }
   ],
   "source": [
    "t_values = data_df['Time'].tolist()\n",
    "x_values = data_df['X'].tolist()\n",
    "y_values = data_df['Y'].tolist()\n",
    "z_values = data_df['Z'].tolist()\n",
    "type(x_values)"
   ]
  },
  {
   "cell_type": "code",
   "execution_count": null,
   "metadata": {},
   "outputs": [],
   "source": [
    "def difference_coding(number_of_values, values, start_num):\n",
    "    num_of_readings = number_of_values\n",
    "    full_values = values[start_num: start_num + num_of_readings]\n",
    "    "
   ]
  },
  {
   "cell_type": "code",
   "execution_count": 51,
   "metadata": {},
   "outputs": [
    {
     "name": "stdout",
     "output_type": "stream",
     "text": [
      "frequencies: {'a': 3, 'b': 1, 'c': 2, 'd': 1, 'e': 5, 'f': 2, 'g': 1}\n",
      "--------------------\n",
      "sorted freq: [(1, 'b'), (1, 'd'), (1, 'g'), (2, 'c'), (2, 'f'), (3, 'a'), (5, 'e')]\n",
      "--------------------\n",
      "tree: (15, ((6, ((3, 'a'), (3, ((1, 'g'), (2, 'c'))))), (9, ((4, ((2, 'f'), (2, ((1, 'b'), (1, 'd'))))), (5, 'e')))))\n",
      "--------------------\n",
      "trimmed tree: (('a', ('g', 'c')), (('f', ('b', 'd')), 'e'))\n",
      "--------------------\n",
      "assignment of codes: {'a': '00', 'g': '010', 'c': '011', 'f': '100', 'b': '1010', 'd': '1011', 'e': '11'}\n",
      "--------------------\n",
      "encoded: 000000101001101110111111111111100100010\n",
      "--------------------\n",
      "decoded: aaabccdeeeeeffg\n",
      "--------------------\n",
      "Original matches decoded: True\n"
     ]
    }
   ],
   "source": [
    "codes={}\n",
    "\n",
    "def frequency (str) :\n",
    "    freqs = {}\n",
    "    for ch in str :\n",
    "        freqs[ch] = freqs.get(ch,0) + 1\n",
    "    return freqs\n",
    "\n",
    "def sortFreq (freqs) :\n",
    "    letters = freqs.keys()\n",
    "    tuples = []\n",
    "    for let in letters :\n",
    "        tuples.append((freqs[let],let))\n",
    "    tuples.sort()\n",
    "    return tuples\n",
    "\n",
    "def buildTree(tuples) :\n",
    "    while len(tuples) > 1 :\n",
    "        leastTwo = tuple(tuples[0:2])                  # get the 2 to combine\n",
    "        theRest  = tuples[2:]                          # all the others\n",
    "        combFreq = leastTwo[0][0] + leastTwo[1][0]     # the branch points freq\n",
    "        tuples   = theRest + [(combFreq,leastTwo)]     # add branch point to the end\n",
    "#         print(tuples)\n",
    "        tuples.sort(key=lambda t: t[0])                                  # sort it into place\n",
    "    return tuples[0]            # Return the single tree inside the list\n",
    "\n",
    "def trimTree (tree) :\n",
    "     # Trim the freq counters off, leaving just the letters\n",
    "    p = tree[1]                                    # ignore freq count in [0]\n",
    "    if type(p) == type(\"\") : return p              # if just a leaf, return it\n",
    "    else : return (trimTree(p[0]), trimTree(p[1])) # trim left then right and recombine\n",
    "    \n",
    "def assignCodes (node, pat='') :\n",
    "    global codes\n",
    "    if type(node) == type(\"\") :\n",
    "        codes[node] = pat                # A leaf. set its code\n",
    "    else  :                              #\n",
    "        assignCodes(node[0], pat+\"0\")    # Branch point. Do the left branch\n",
    "        assignCodes(node[1], pat+\"1\")    # then do the right branch.\n",
    "\n",
    "def encode_str (str) :\n",
    "    global codes\n",
    "    output = \"\"\n",
    "    for ch in str : output += codes[ch]\n",
    "    return output\n",
    "\n",
    "def decode_str (tree, string_to_decode) :\n",
    "    output = \"\"\n",
    "    p = tree\n",
    "    for bit in string_to_decode:\n",
    "#         print(bit, type(bit), p)\n",
    "        if bit == '0' : p = p[0]     # Head up the left branch\n",
    "        else          : p = p[1]     # or up the right branch\n",
    "        if type(p) == type(\"\") :\n",
    "            output += p              # found a character. Add to output\n",
    "            p = tree                 # and restart for next character\n",
    "    return output\n",
    "\n",
    "original_str = 'aaabccdeeeeeffg'\n",
    "qwe = frequency('aaabccdeeeeeffg')\n",
    "print('frequencies:', qwe)\n",
    "print('-'*20)\n",
    "tuples_for_tree = sortFreq(qwe)\n",
    "print('sorted freq:', tuples_for_tree)\n",
    "print('-'*20)\n",
    "tree = buildTree(tuples_for_tree)\n",
    "print('tree:', tree)\n",
    "print('-'*20)\n",
    "trimmed = trimTree(tree)\n",
    "print('trimmed tree:', trimmed)\n",
    "print('-'*20)\n",
    "assignCodes(trimmed)\n",
    "print('assignment of codes:', codes)\n",
    "print('-'*20)\n",
    "print('encoded:', encode_str('aaabccdeeeeeffg'))\n",
    "print('-'*20)\n",
    "decoded = decode_str(trimmed, '000000101001101110111111111111100100010')\n",
    "print('decoded:', decoded)\n",
    "print('-'*20)\n",
    "print('Original matches decoded:', decoded == original_str)"
   ]
  },
  {
   "cell_type": "code",
   "execution_count": 98,
   "metadata": {},
   "outputs": [
    {
     "name": "stdout",
     "output_type": "stream",
     "text": [
      "Calculated Differences size: 226\n",
      "Actual calculated differences string: -1143:0,-1,-7,4,5,6,4,10,13,9,8,7,10,11,7,22,27,31,25,29,27,22,23,23,18,14,10,8,7,-5,-11,-16,-15,-7,-2,-5,-6,-9,-1,6,8,15,27,33,39,49,54,53,52,63,63,55,55,53,48,41,36,39,39,32,29,33,24,17,15,7,7,5,5,13\n",
      "----------------------------------------\n",
      "Uncompressed size: 444\n",
      "Full uncompressed string: -1143,-1144,-1150,-1139,-1138,-1137,-1139,-1133,-1130,-1134,-1135,-1136,-1133,-1132,-1136,-1121,-1116,-1112,-1118,-1114,-1116,-1121,-1120,-1120,-1125,-1129,-1133,-1135,-1136,-1148,-1154,-1159,-1158,-1150,-1145,-1148,-1149,-1152,-1144,-1137,-1135,-1128,-1116,-1110,-1104,-1094,-1089,-1090,-1091,-1080,-1080,-1088,-1088,-1090,-1095,-1102,-1107,-1104,-1104,-1111,-1114,-1110,-1119,-1126,-1128,-1136,-1136,-1138,-1138,-1130\n",
      "----------------------------------------\n",
      "zlib compressed size: 129\n",
      "----------------------------------------\n",
      "length of huffman encoded in bits?: 638\n",
      "length in bytes: 79.75\n",
      "huffman encoded size: 655\n",
      "Original matches decoded: True\n"
     ]
    }
   ],
   "source": [
    "start = random.randint(0, 650000)\n",
    "num_of_readings = 70\n",
    "initial = x_values[start]\n",
    "full_values = x_values[start: start+num_of_readings]\n",
    "full_joined = ','.join(map(str, full_values))\n",
    "new = []\n",
    "for i in range(start, start+num_of_readings):\n",
    "    new.append(x_values[i]-initial)\n",
    "\n",
    "lst_joined = ','.join(map(str, new))\n",
    "final_str = str(initial)+':'+lst_joined\n",
    "print('Calculated Differences size:', sys.getsizeof(final_str))\n",
    "print('Actual calculated differences string:', final_str)\n",
    "print('--'*20)\n",
    "print('Uncompressed size:', sys.getsizeof(full_joined))\n",
    "print('Full uncompressed string:', full_joined)\n",
    "print('--'*20)\n",
    "# print(sys.getsizeof(final_str.encode('utf-8')), final_str.encode('utf-8'))\n",
    "# print('--'*20)\n",
    "print('zlib compressed size:', sys.getsizeof(zlib.compress(final_str.encode('utf-8'))))\n",
    "print('--'*20)\n",
    "codes={}\n",
    "qwe = frequency(final_str)\n",
    "tuples_for_tree = sortFreq(qwe)\n",
    "tree = buildTree(tuples_for_tree)\n",
    "trimmed = trimTree(tree)\n",
    "assignCodes(trimmed)\n",
    "encoded = encode_str(final_str)\n",
    "decoded = decode_str(trimmed, encoded)\n",
    "# print(codes)\n",
    "# print('encoded:', encoded)\n",
    "print('length of huffman encoded in bits?:', len(encoded))\n",
    "print('length in bytes:', len(encoded)/8)\n",
    "print('huffman encoded size:', sys.getsizeof(encoded.encode('utf-8')))\n",
    "print('Original matches decoded:', decoded == final_str)\n",
    "# print('decoded:', decoded)\n",
    "# print('bytes form:', bytes(encoded.encode('utf-8')))"
   ]
  },
  {
   "cell_type": "code",
   "execution_count": 116,
   "metadata": {
    "scrolled": false
   },
   "outputs": [
    {
     "data": {
      "image/png": "[encoded data removed]",
      "text/plain": [
       "<Figure size 432x288 with 1 Axes>"
      ]
     },
     "metadata": {
      "needs_background": "light"
     },
     "output_type": "display_data"
    },
    {
     "data": {
      "image/png": "[encoded data removed]",
      "text/plain": [
       "<Figure size 432x288 with 1 Axes>"
      ]
     },
     "metadata": {
      "needs_background": "light"
     },
     "output_type": "display_data"
    },
    {
     "data": {
      "image/png": "[encoded data removed]",
      "text/plain": [
       "<Figure size 432x288 with 1 Axes>"
      ]
     },
     "metadata": {
      "needs_background": "light"
     },
     "output_type": "display_data"
    }
   ],
   "source": [
    "rand_start = random.randint(0, 650000)\n",
    "df_part = data_df[rand_start: rand_start+400]\n",
    "plt.plot(df_part['Time'], df_part['X'])\n",
    "plt.xticks([])\n",
    "plt.title('X Axis Readings')\n",
    "plt.show()\n",
    "\n",
    "plt.plot(df_part['Time'], df_part['Y'])\n",
    "plt.xticks([])\n",
    "plt.title('Y Axis Readings')\n",
    "plt.show()\n",
    "\n",
    "plt.plot(df_part['Time'], df_part['Z'])\n",
    "plt.xticks([])\n",
    "plt.title('Z Axis Readings')\n",
    "plt.show()"
   ]
  },
  {
   "cell_type": "code",
   "execution_count": null,
   "metadata": {},
   "outputs": [],
   "source": []
  }
 ],
 "metadata": {
  "kernelspec": {
   "display_name": "Python 3",
   "language": "python",
   "name": "python3"
  },
  "language_info": {
   "codemirror_mode": {
    "name": "ipython",
    "version": 3
   },
   "file_extension": ".py",
   "mimetype": "text/x-python",
   "name": "python",
   "nbconvert_exporter": "python",
   "pygments_lexer": "ipython3",
   "version": "3.7.4"
  }
 },
 "nbformat": 4,
 "nbformat_minor": 2
}
